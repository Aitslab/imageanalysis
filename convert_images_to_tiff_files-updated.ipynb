{
 "cells": [
  {
   "cell_type": "markdown",
   "metadata": {},
   "source": [
    "**Convert all .C01 files to .tiff format**\n",
    "\n",
    "The size of images are changed from 1.6-1.7 MB to 2.4 MB.\n",
    "\n",
    "Each image takes 3 second to be converted and it is alot for the thousands-order number of images.\n",
    "\n",
    "29th of April. (updated 3rd April 2020 by Filip Vitez)"
   ]
  },
  {
   "cell_type": "markdown",
   "metadata": {},
   "source": [
    "#### Pre requirements: "
   ]
  },
  {
   "cell_type": "markdown",
   "metadata": {},
   "source": [
    "In order to run the subprocess-process that converts the images, we need a package brftools. Install as follows:"
   ]
  },
  {
   "cell_type": "markdown",
   "metadata": {},
   "source": [
    "***\n",
    "> 1. Install and unpack the following file into your root directory: http://downloads.openmicroscopy.org/latest/bio-formats/artifacts/bftools.zip\n",
    ">\n",
    "> 2. Make sure the unpacked folder is in your root directory, then type the following into a terminal-window:\n",
    ">  1. cd ~\n",
    ">  2. export PATH=$PATH:~/bioformat/bftools\n",
    "\n",
    "> 3. Also add the same line to your bash.profile by:\n",
    ">   1. opening your bash profile in preferred text editor\n",
    ">     1. i.e.: atom .bash_profile\n",
    ">   1. adding the line export PATH=$PATH:~/bioformat/bftools\n",
    "\n",
    " \n",
    "> 4. Restart the terminal along with any active jupyter kernels\n",
    "***"
   ]
  },
  {
   "cell_type": "markdown",
   "metadata": {},
   "source": [
    "#### Imports"
   ]
  },
  {
   "cell_type": "code",
   "execution_count": 1,
   "metadata": {},
   "outputs": [],
   "source": [
    "import os"
   ]
  },
  {
   "cell_type": "code",
   "execution_count": null,
   "metadata": {},
   "outputs": [],
   "source": [
    "import subprocess"
   ]
  },
  {
   "cell_type": "markdown",
   "metadata": {},
   "source": [
    "#### change directory to the one containing the images to convert"
   ]
  },
  {
   "cell_type": "code",
   "execution_count": 2,
   "metadata": {},
   "outputs": [
    {
     "data": {
      "text/plain": [
       "['jonDir',\n",
       " 'tiff_images',\n",
       " '.DS_Store',\n",
       " 'tutorial_figs',\n",
       " 'segmentation',\n",
       " 'segmentation2',\n",
       " 'pipelines',\n",
       " 'README.md',\n",
       " 'Deep_learning_tutorial.html',\n",
       " 'Deep_learning_tutorial.ipynb',\n",
       " 'tutorial_images',\n",
       " '.ipynb_checkpoints',\n",
       " 'nuclei_detection',\n",
       " '.git',\n",
       " 'convert_images_to_tiff_files.ipynb',\n",
       " 'QC']"
      ]
     },
     "execution_count": 2,
     "metadata": {},
     "output_type": "execute_result"
    }
   ],
   "source": [
    "os.listdir()"
   ]
  },
  {
   "cell_type": "code",
   "execution_count": 3,
   "metadata": {},
   "outputs": [],
   "source": [
    "os.chdir('/Users/filipvitez/Skola/cell_death/imageanalysis/segmentation2')"
   ]
  },
  {
   "cell_type": "markdown",
   "metadata": {},
   "source": [
    "> It is important that the images in the image-folder are sorted into subsdirectories based on plate\n",
    ">\n",
    "> Plates are identified by the first string together with the first number sequence. \n",
    ">\n",
    "> In this example: MFGTMPcx7_170702000001_B14f07d0.C01, the plate identifier is MFGTMPcx7_170702000001"
   ]
  },
  {
   "cell_type": "code",
   "execution_count": 13,
   "metadata": {},
   "outputs": [],
   "source": [
    "#TODO: Create function that sorts a directory containing images\n",
    "#TODO: into subdirectories for each plate\n",
    "# (Until such a function is created, you have to do this manually)"
   ]
  },
  {
   "cell_type": "code",
   "execution_count": 4,
   "metadata": {},
   "outputs": [
    {
     "name": "stdout",
     "output_type": "stream",
     "text": [
      "MFGTMPcx7_170803210001\n",
      "['MFGTMPcx7_170803210001']\n",
      "MFGTMPcx7_170731090001\n",
      "['MFGTMPcx7_170803210001', 'MFGTMPcx7_170731090001']\n",
      ".DS_Store\n",
      "MFGTMPcx7_170702000001\n",
      "['MFGTMPcx7_170803210001', 'MFGTMPcx7_170731090001', 'MFGTMPcx7_170702000001']\n",
      "MFGTMPcx7_170802000001\n",
      "['MFGTMPcx7_170803210001', 'MFGTMPcx7_170731090001', 'MFGTMPcx7_170702000001', 'MFGTMPcx7_170802000001']\n",
      "MFGTMPcx7_170702090001\n",
      "['MFGTMPcx7_170803210001', 'MFGTMPcx7_170731090001', 'MFGTMPcx7_170702000001', 'MFGTMPcx7_170802000001', 'MFGTMPcx7_170702090001']\n",
      "MFGTMPcx7_170801050001\n",
      "['MFGTMPcx7_170803210001', 'MFGTMPcx7_170731090001', 'MFGTMPcx7_170702000001', 'MFGTMPcx7_170802000001', 'MFGTMPcx7_170702090001', 'MFGTMPcx7_170801050001']\n",
      "There are 6 plates\n",
      "\n"
     ]
    }
   ],
   "source": [
    "#import os\n",
    "#os.chdir('/segmentation')\n",
    "# upper directory of image folders\n",
    " \n",
    "# BUILD LIST OF PLATES\n",
    "plate_list = list()\n",
    "for i in os.listdir():\n",
    "    print(i)\n",
    "    if os.path.isdir(i):\n",
    "        plate_list.append(i)\n",
    "        print(plate_list)\n",
    "print('There are {} plates\\n'.format(len(plate_list)))"
   ]
  },
  {
   "cell_type": "markdown",
   "metadata": {},
   "source": [
    "#### Create path-list for each C01-file"
   ]
  },
  {
   "cell_type": "code",
   "execution_count": null,
   "metadata": {},
   "outputs": [],
   "source": [
    "C01_files = list()"
   ]
  },
  {
   "cell_type": "code",
   "execution_count": 5,
   "metadata": {},
   "outputs": [
    {
     "name": "stdout",
     "output_type": "stream",
     "text": [
      "['/Users/filipvitez/Skola/cell_death/imageanalysis/segmentation2/MFGTMPcx7_170803210001/MFGTMPcx7_170803210001_I06f29d0.C01', '/Users/filipvitez/Skola/cell_death/imageanalysis/segmentation2/MFGTMPcx7_170803210001/MFGTMPcx7_170803210001_L14f27d0.C01', '/Users/filipvitez/Skola/cell_death/imageanalysis/segmentation2/MFGTMPcx7_170803210001/MFGTMPcx7_170803210001_A01f29d0.C01', '/Users/filipvitez/Skola/cell_death/imageanalysis/segmentation2/MFGTMPcx7_170803210001/MFGTMPcx7_170803210001_L13f27d0.C01', '/Users/filipvitez/Skola/cell_death/imageanalysis/segmentation2/MFGTMPcx7_170803210001/MFGTMPcx7_170803210001_D04f27d0.C01', '/Users/filipvitez/Skola/cell_death/imageanalysis/segmentation2/MFGTMPcx7_170803210001/MFGTMPcx7_170803210001_P09f27d0.C01', '/Users/filipvitez/Skola/cell_death/imageanalysis/segmentation2/MFGTMPcx7_170803210001/MFGTMPcx7_170803210001_P17f28d0.C01', '/Users/filipvitez/Skola/cell_death/imageanalysis/segmentation2/MFGTMPcx7_170803210001/MFGTMPcx7_170803210001_A05f27d0.C01', '/Users/filipvitez/Skola/cell_death/imageanalysis/segmentation2/MFGTMPcx7_170803210001/MFGTMPcx7_170803210001_J12f29d0.C01', '/Users/filipvitez/Skola/cell_death/imageanalysis/segmentation2/MFGTMPcx7_170803210001/MFGTMPcx7_170803210001_B18f27d0.C01', '/Users/filipvitez/Skola/cell_death/imageanalysis/segmentation2/MFGTMPcx7_170803210001/MFGTMPcx7_170803210001_P22f27d0.C01', '/Users/filipvitez/Skola/cell_death/imageanalysis/segmentation2/MFGTMPcx7_170803210001/MFGTMPcx7_170803210001_I07f27d0.C01', '/Users/filipvitez/Skola/cell_death/imageanalysis/segmentation2/MFGTMPcx7_170803210001/MFGTMPcx7_170803210001_B19f26d0.C01', '/Users/filipvitez/Skola/cell_death/imageanalysis/segmentation2/MFGTMPcx7_170803210001/MFGTMPcx7_170803210001_O09f27d0.C01']\n",
      "Plate MFGTMPcx7_170803210001 has 14 C01-files\n",
      "['/Users/filipvitez/Skola/cell_death/imageanalysis/segmentation2/MFGTMPcx7_170731090001/MFGTMPcx7_170731090001_I12f05d0.C01', '/Users/filipvitez/Skola/cell_death/imageanalysis/segmentation2/MFGTMPcx7_170731090001/MFGTMPcx7_170731090001_B05f12d0.C01', '/Users/filipvitez/Skola/cell_death/imageanalysis/segmentation2/MFGTMPcx7_170731090001/MFGTMPcx7_170731090001_K24f09d0.C01', '/Users/filipvitez/Skola/cell_death/imageanalysis/segmentation2/MFGTMPcx7_170731090001/MFGTMPcx7_170731090001_D11f13d0.C01', '/Users/filipvitez/Skola/cell_death/imageanalysis/segmentation2/MFGTMPcx7_170731090001/MFGTMPcx7_170731090001_I12f07d0.C01', '/Users/filipvitez/Skola/cell_death/imageanalysis/segmentation2/MFGTMPcx7_170731090001/MFGTMPcx7_170731090001_B05f10d0.C01', '/Users/filipvitez/Skola/cell_death/imageanalysis/segmentation2/MFGTMPcx7_170731090001/MFGTMPcx7_170731090001_K24f10d0.C01', '/Users/filipvitez/Skola/cell_death/imageanalysis/segmentation2/MFGTMPcx7_170731090001/MFGTMPcx7_170731090001_B14f13d0.C01', '/Users/filipvitez/Skola/cell_death/imageanalysis/segmentation2/MFGTMPcx7_170731090001/MFGTMPcx7_170731090001_P01f11d0.C01', '/Users/filipvitez/Skola/cell_death/imageanalysis/segmentation2/MFGTMPcx7_170731090001/MFGTMPcx7_170731090001_D11f15d0.C01', '/Users/filipvitez/Skola/cell_death/imageanalysis/segmentation2/MFGTMPcx7_170731090001/MFGTMPcx7_170731090001_P01f14d0.C01', '/Users/filipvitez/Skola/cell_death/imageanalysis/segmentation2/MFGTMPcx7_170731090001/MFGTMPcx7_170731090001_B14f09d0.C01', '/Users/filipvitez/Skola/cell_death/imageanalysis/segmentation2/MFGTMPcx7_170731090001/MFGTMPcx7_170731090001_K05f05d0.C01', '/Users/filipvitez/Skola/cell_death/imageanalysis/segmentation2/MFGTMPcx7_170731090001/MFGTMPcx7_170731090001_I12f02d0.C01', '/Users/filipvitez/Skola/cell_death/imageanalysis/segmentation2/MFGTMPcx7_170731090001/MFGTMPcx7_170731090001_K05f07d0.C01', '/Users/filipvitez/Skola/cell_death/imageanalysis/segmentation2/MFGTMPcx7_170731090001/MFGTMPcx7_170731090001_A01f04d0.C01', '/Users/filipvitez/Skola/cell_death/imageanalysis/segmentation2/MFGTMPcx7_170731090001/MFGTMPcx7_170731090001_N05f14d0.C01', '/Users/filipvitez/Skola/cell_death/imageanalysis/segmentation2/MFGTMPcx7_170731090001/MFGTMPcx7_170731090001_G15f03d0.C01', '/Users/filipvitez/Skola/cell_death/imageanalysis/segmentation2/MFGTMPcx7_170731090001/MFGTMPcx7_170731090001_K24f04d0.C01', '/Users/filipvitez/Skola/cell_death/imageanalysis/segmentation2/MFGTMPcx7_170731090001/MFGTMPcx7_170731090001_N05f12d0.C01', '/Users/filipvitez/Skola/cell_death/imageanalysis/segmentation2/MFGTMPcx7_170731090001/MFGTMPcx7_170731090001_G15f00d0.C01']\n",
      "Plate MFGTMPcx7_170731090001 has 21 C01-files\n",
      "['/Users/filipvitez/Skola/cell_death/imageanalysis/segmentation2/MFGTMPcx7_170702000001/MFGTMPcx7_170702000001_B14f07d0.C01', '/Users/filipvitez/Skola/cell_death/imageanalysis/segmentation2/MFGTMPcx7_170702000001/MFGTMPcx7_170702000001_G14f03d0.C01', '/Users/filipvitez/Skola/cell_death/imageanalysis/segmentation2/MFGTMPcx7_170702000001/MFGTMPcx7_170702000001_F24f14d0.C01', '/Users/filipvitez/Skola/cell_death/imageanalysis/segmentation2/MFGTMPcx7_170702000001/MFGTMPcx7_170702000001_B23f07d0.C01', '/Users/filipvitez/Skola/cell_death/imageanalysis/segmentation2/MFGTMPcx7_170702000001/MFGTMPcx7_170702000001_G07f02d0.C01', '/Users/filipvitez/Skola/cell_death/imageanalysis/segmentation2/MFGTMPcx7_170702000001/MFGTMPcx7_170702000001_F11f10d0.C01', '/Users/filipvitez/Skola/cell_death/imageanalysis/segmentation2/MFGTMPcx7_170702000001/MFGTMPcx7_170702000001_D13f04d0.C01']\n",
      "Plate MFGTMPcx7_170702000001 has 7 C01-files\n",
      "['/Users/filipvitez/Skola/cell_death/imageanalysis/segmentation2/MFGTMPcx7_170802000001/MFGTMPcx7_170802000001_I10f05d0.C01', '/Users/filipvitez/Skola/cell_death/imageanalysis/segmentation2/MFGTMPcx7_170802000001/MFGTMPcx7_170802000001_F16f01d0.C01', '/Users/filipvitez/Skola/cell_death/imageanalysis/segmentation2/MFGTMPcx7_170802000001/MFGTMPcx7_170802000001_N11f00d0.C01', '/Users/filipvitez/Skola/cell_death/imageanalysis/segmentation2/MFGTMPcx7_170802000001/MFGTMPcx7_170802000001_J04f00d0.C01', '/Users/filipvitez/Skola/cell_death/imageanalysis/segmentation2/MFGTMPcx7_170802000001/MFGTMPcx7_170802000001_F15f14d0.C01', '/Users/filipvitez/Skola/cell_death/imageanalysis/segmentation2/MFGTMPcx7_170802000001/MFGTMPcx7_170802000001_A01f01d0.C01', '/Users/filipvitez/Skola/cell_death/imageanalysis/segmentation2/MFGTMPcx7_170802000001/MFGTMPcx7_170802000001_F16f00d0.C01', '/Users/filipvitez/Skola/cell_death/imageanalysis/segmentation2/MFGTMPcx7_170802000001/MFGTMPcx7_170802000001_J11f13d0.C01', '/Users/filipvitez/Skola/cell_death/imageanalysis/segmentation2/MFGTMPcx7_170802000001/MFGTMPcx7_170802000001_I10f04d0.C01', '/Users/filipvitez/Skola/cell_death/imageanalysis/segmentation2/MFGTMPcx7_170802000001/MFGTMPcx7_170802000001_L04f10d0.C01', '/Users/filipvitez/Skola/cell_death/imageanalysis/segmentation2/MFGTMPcx7_170802000001/MFGTMPcx7_170802000001_A01f05d0.C01', '/Users/filipvitez/Skola/cell_death/imageanalysis/segmentation2/MFGTMPcx7_170802000001/MFGTMPcx7_170802000001_I12f01d0.C01', '/Users/filipvitez/Skola/cell_death/imageanalysis/segmentation2/MFGTMPcx7_170802000001/MFGTMPcx7_170802000001_I09f00d0.C01', '/Users/filipvitez/Skola/cell_death/imageanalysis/segmentation2/MFGTMPcx7_170802000001/MFGTMPcx7_170802000001_P24f12d0.C01', '/Users/filipvitez/Skola/cell_death/imageanalysis/segmentation2/MFGTMPcx7_170802000001/MFGTMPcx7_170802000001_I07f13d0.C01', '/Users/filipvitez/Skola/cell_death/imageanalysis/segmentation2/MFGTMPcx7_170802000001/MFGTMPcx7_170802000001_I09f02d0.C01', '/Users/filipvitez/Skola/cell_death/imageanalysis/segmentation2/MFGTMPcx7_170802000001/MFGTMPcx7_170802000001_I12f05d0.C01', '/Users/filipvitez/Skola/cell_death/imageanalysis/segmentation2/MFGTMPcx7_170802000001/MFGTMPcx7_170802000001_I07f12d0.C01', '/Users/filipvitez/Skola/cell_death/imageanalysis/segmentation2/MFGTMPcx7_170802000001/MFGTMPcx7_170802000001_I07f10d0.C01', '/Users/filipvitez/Skola/cell_death/imageanalysis/segmentation2/MFGTMPcx7_170802000001/MFGTMPcx7_170802000001_P24f15d0.C01']\n",
      "Plate MFGTMPcx7_170802000001 has 20 C01-files\n",
      "['/Users/filipvitez/Skola/cell_death/imageanalysis/segmentation2/MFGTMPcx7_170702090001/MFGTMPcx7_170702090001_A20f02d0.C01', '/Users/filipvitez/Skola/cell_death/imageanalysis/segmentation2/MFGTMPcx7_170702090001/MFGTMPcx7_170702090001_P07f14d0.C01', '/Users/filipvitez/Skola/cell_death/imageanalysis/segmentation2/MFGTMPcx7_170702090001/MFGTMPcx7_170702090001_N06f14d0.C01', '/Users/filipvitez/Skola/cell_death/imageanalysis/segmentation2/MFGTMPcx7_170702090001/MFGTMPcx7_170702090001_A10f11d0.C01', '/Users/filipvitez/Skola/cell_death/imageanalysis/segmentation2/MFGTMPcx7_170702090001/MFGTMPcx7_170702090001_O02f15d0.C01', '/Users/filipvitez/Skola/cell_death/imageanalysis/segmentation2/MFGTMPcx7_170702090001/MFGTMPcx7_170702090001_C09f01d0.C01', '/Users/filipvitez/Skola/cell_death/imageanalysis/segmentation2/MFGTMPcx7_170702090001/MFGTMPcx7_170702090001_H03f10d0.C01', '/Users/filipvitez/Skola/cell_death/imageanalysis/segmentation2/MFGTMPcx7_170702090001/MFGTMPcx7_170702090001_L21f03d0.C01', '/Users/filipvitez/Skola/cell_death/imageanalysis/segmentation2/MFGTMPcx7_170702090001/MFGTMPcx7_170702090001_F20f06d0.C01', '/Users/filipvitez/Skola/cell_death/imageanalysis/segmentation2/MFGTMPcx7_170702090001/MFGTMPcx7_170702090001_B08f09d0.C01', '/Users/filipvitez/Skola/cell_death/imageanalysis/segmentation2/MFGTMPcx7_170702090001/MFGTMPcx7_170702090001_A02f07d0.C01', '/Users/filipvitez/Skola/cell_death/imageanalysis/segmentation2/MFGTMPcx7_170702090001/MFGTMPcx7_170702090001_M18f10d0.C01', '/Users/filipvitez/Skola/cell_death/imageanalysis/segmentation2/MFGTMPcx7_170702090001/MFGTMPcx7_170702090001_A12f00d0.C01', '/Users/filipvitez/Skola/cell_death/imageanalysis/segmentation2/MFGTMPcx7_170702090001/MFGTMPcx7_170702090001_K22f14d0.C01', '/Users/filipvitez/Skola/cell_death/imageanalysis/segmentation2/MFGTMPcx7_170702090001/MFGTMPcx7_170702090001_J11f10d0.C01', '/Users/filipvitez/Skola/cell_death/imageanalysis/segmentation2/MFGTMPcx7_170702090001/MFGTMPcx7_170702090001_I09f10d0.C01', '/Users/filipvitez/Skola/cell_death/imageanalysis/segmentation2/MFGTMPcx7_170702090001/MFGTMPcx7_170702090001_M06f13d0.C01', '/Users/filipvitez/Skola/cell_death/imageanalysis/segmentation2/MFGTMPcx7_170702090001/MFGTMPcx7_170702090001_H04f01d0.C01', '/Users/filipvitez/Skola/cell_death/imageanalysis/segmentation2/MFGTMPcx7_170702090001/MFGTMPcx7_170702090001_A08f09d0.C01', '/Users/filipvitez/Skola/cell_death/imageanalysis/segmentation2/MFGTMPcx7_170702090001/MFGTMPcx7_170702090001_L08f09d0.C01', '/Users/filipvitez/Skola/cell_death/imageanalysis/segmentation2/MFGTMPcx7_170702090001/MFGTMPcx7_170702090001_A08f12d0.C01', '/Users/filipvitez/Skola/cell_death/imageanalysis/segmentation2/MFGTMPcx7_170702090001/MFGTMPcx7_170702090001_B22f15d0.C01', '/Users/filipvitez/Skola/cell_death/imageanalysis/segmentation2/MFGTMPcx7_170702090001/MFGTMPcx7_170702090001_C16f04d0.C01', '/Users/filipvitez/Skola/cell_death/imageanalysis/segmentation2/MFGTMPcx7_170702090001/MFGTMPcx7_170702090001_F20f14d0.C01', '/Users/filipvitez/Skola/cell_death/imageanalysis/segmentation2/MFGTMPcx7_170702090001/MFGTMPcx7_170702090001_P01f02d0.C01', '/Users/filipvitez/Skola/cell_death/imageanalysis/segmentation2/MFGTMPcx7_170702090001/MFGTMPcx7_170702090001_G03f06d0.C01', '/Users/filipvitez/Skola/cell_death/imageanalysis/segmentation2/MFGTMPcx7_170702090001/MFGTMPcx7_170702090001_C08f14d0.C01', '/Users/filipvitez/Skola/cell_death/imageanalysis/segmentation2/MFGTMPcx7_170702090001/MFGTMPcx7_170702090001_J12f07d0.C01', '/Users/filipvitez/Skola/cell_death/imageanalysis/segmentation2/MFGTMPcx7_170702090001/MFGTMPcx7_170702090001_G03f02d0.C01', '/Users/filipvitez/Skola/cell_death/imageanalysis/segmentation2/MFGTMPcx7_170702090001/MFGTMPcx7_170702090001_N19f08d0.C01', '/Users/filipvitez/Skola/cell_death/imageanalysis/segmentation2/MFGTMPcx7_170702090001/MFGTMPcx7_170702090001_I21f13d0.C01', '/Users/filipvitez/Skola/cell_death/imageanalysis/segmentation2/MFGTMPcx7_170702090001/MFGTMPcx7_170702090001_P08f09d0.C01', '/Users/filipvitez/Skola/cell_death/imageanalysis/segmentation2/MFGTMPcx7_170702090001/MFGTMPcx7_170702090001_K22f04d0.C01']\n",
      "Plate MFGTMPcx7_170702090001 has 33 C01-files\n",
      "['/Users/filipvitez/Skola/cell_death/imageanalysis/segmentation2/MFGTMPcx7_170801050001/MFGTMPcx7_170801050001_A01f03d0.C01', '/Users/filipvitez/Skola/cell_death/imageanalysis/segmentation2/MFGTMPcx7_170801050001/MFGTMPcx7_170801050001_A01f01d0.C01', '/Users/filipvitez/Skola/cell_death/imageanalysis/segmentation2/MFGTMPcx7_170801050001/MFGTMPcx7_170801050001_A01f02d0.C01', '/Users/filipvitez/Skola/cell_death/imageanalysis/segmentation2/MFGTMPcx7_170801050001/MFGTMPcx7_170801050001_G02f01d0.C01', '/Users/filipvitez/Skola/cell_death/imageanalysis/segmentation2/MFGTMPcx7_170801050001/MFGTMPcx7_170801050001_A01f04d0.C01']\n",
      "Plate MFGTMPcx7_170801050001 has 5 C01-files\n",
      "\n",
      "\n",
      "In total there are 100 C01-files on all plates\n",
      "\n",
      "['/Users/filipvitez/Skola/cell_death/imageanalysis/segmentation2/MFGTMPcx7_170803210001/MFGTMPcx7_170803210001_I06f29d0.C01', '/Users/filipvitez/Skola/cell_death/imageanalysis/segmentation2/MFGTMPcx7_170803210001/MFGTMPcx7_170803210001_L14f27d0.C01', '/Users/filipvitez/Skola/cell_death/imageanalysis/segmentation2/MFGTMPcx7_170803210001/MFGTMPcx7_170803210001_A01f29d0.C01', '/Users/filipvitez/Skola/cell_death/imageanalysis/segmentation2/MFGTMPcx7_170803210001/MFGTMPcx7_170803210001_L13f27d0.C01', '/Users/filipvitez/Skola/cell_death/imageanalysis/segmentation2/MFGTMPcx7_170803210001/MFGTMPcx7_170803210001_D04f27d0.C01', '/Users/filipvitez/Skola/cell_death/imageanalysis/segmentation2/MFGTMPcx7_170803210001/MFGTMPcx7_170803210001_P09f27d0.C01', '/Users/filipvitez/Skola/cell_death/imageanalysis/segmentation2/MFGTMPcx7_170803210001/MFGTMPcx7_170803210001_P17f28d0.C01', '/Users/filipvitez/Skola/cell_death/imageanalysis/segmentation2/MFGTMPcx7_170803210001/MFGTMPcx7_170803210001_A05f27d0.C01', '/Users/filipvitez/Skola/cell_death/imageanalysis/segmentation2/MFGTMPcx7_170803210001/MFGTMPcx7_170803210001_J12f29d0.C01', '/Users/filipvitez/Skola/cell_death/imageanalysis/segmentation2/MFGTMPcx7_170803210001/MFGTMPcx7_170803210001_B18f27d0.C01']\n",
      "\n",
      "\n"
     ]
    }
   ],
   "source": [
    "# CHECK NUMBERS OF C01-FILES ON EACH PLATE\n",
    "import glob\n",
    "C01_files = list()\n",
    "for i in plate_list:\n",
    "    C01_files_plate = glob.glob('/Users/filipvitez/Skola/cell_death/imageanalysis/segmentation2/' + \\\n",
    "                                str(i) + '/*.C01')\n",
    "    print(C01_files_plate)\n",
    "    print('Plate {0} has {1} C01-files'.format(i, len(C01_files_plate)))\n",
    "    C01_files = C01_files + C01_files_plate\n",
    "print('\\n')\n",
    "print('In total there are {} C01-files on all plates\\n'.format(len(C01_files)))\n",
    "print(C01_files[0:10])\n",
    "print('\\n')\n",
    "\n",
    "\n",
    " "
   ]
  },
  {
   "cell_type": "markdown",
   "metadata": {},
   "source": [
    "#### Make plate-folders for the tiff-files "
   ]
  },
  {
   "cell_type": "code",
   "execution_count": 6,
   "metadata": {},
   "outputs": [
    {
     "name": "stdout",
     "output_type": "stream",
     "text": [
      "['/Users/filipvitez/Skola/cell_death/imageanalysis/tiff_images/MFGTMPcx7_170803210001/MFGTMPcx7_170803210001_I06f29d0.tiff', '/Users/filipvitez/Skola/cell_death/imageanalysis/tiff_images/MFGTMPcx7_170803210001/MFGTMPcx7_170803210001_L14f27d0.tiff', '/Users/filipvitez/Skola/cell_death/imageanalysis/tiff_images/MFGTMPcx7_170803210001/MFGTMPcx7_170803210001_A01f29d0.tiff', '/Users/filipvitez/Skola/cell_death/imageanalysis/tiff_images/MFGTMPcx7_170803210001/MFGTMPcx7_170803210001_L13f27d0.tiff', '/Users/filipvitez/Skola/cell_death/imageanalysis/tiff_images/MFGTMPcx7_170803210001/MFGTMPcx7_170803210001_D04f27d0.tiff', '/Users/filipvitez/Skola/cell_death/imageanalysis/tiff_images/MFGTMPcx7_170803210001/MFGTMPcx7_170803210001_P09f27d0.tiff', '/Users/filipvitez/Skola/cell_death/imageanalysis/tiff_images/MFGTMPcx7_170803210001/MFGTMPcx7_170803210001_P17f28d0.tiff', '/Users/filipvitez/Skola/cell_death/imageanalysis/tiff_images/MFGTMPcx7_170803210001/MFGTMPcx7_170803210001_A05f27d0.tiff', '/Users/filipvitez/Skola/cell_death/imageanalysis/tiff_images/MFGTMPcx7_170803210001/MFGTMPcx7_170803210001_J12f29d0.tiff', '/Users/filipvitez/Skola/cell_death/imageanalysis/tiff_images/MFGTMPcx7_170803210001/MFGTMPcx7_170803210001_B18f27d0.tiff']\n",
      "\n",
      "\n"
     ]
    }
   ],
   "source": [
    "# MAKE FOLDERS FOR TIFF-FILES\n",
    "for i in range(len(plate_list)):\n",
    "    if not os.path.exists('/Users/filipvitez/Skola/cell_death/imageanalysis/tiff_images/' + plate_list[i]):\n",
    "        print('Making directory {}'.format(plate_list[i]))\n",
    "        os.mkdir('/Users/filipvitez/Skola/cell_death/imageanalysis/tiff_images/' + plate_list[i])\n",
    "\n",
    "# CREATE LIST OF PATHS FOR TIFF-FILES\n",
    "tiff_files = [str(i.split('.C01')[0]) + '.tiff' for i in C01_files]\n",
    "tiff_files = [i.replace('segmentation2','tiff_images') for i in tiff_files]\n",
    "print(tiff_files[0:10])\n",
    "print('\\n')"
   ]
  },
  {
   "cell_type": "markdown",
   "metadata": {},
   "source": [
    "#### Conversion from C01 to TIFF"
   ]
  },
  {
   "cell_type": "code",
   "execution_count": 10,
   "metadata": {},
   "outputs": [
    {
     "name": "stdout",
     "output_type": "stream",
     "text": [
      "/Users/filipvitez/Skola/cell_death/imageanalysis/segmentation2/MFGTMPcx7_170803210001/MFGTMPcx7_170803210001_I06f29d0.C01\n",
      "Converting /Users/filipvitez/Skola/cell_death/imageanalysis/segmentation2/MFGTMPcx7_170803210001/MFGTMPcx7_170803210001_I06f29d0.C01 to 16-bit tiff format\n",
      "/Users/filipvitez/Skola/cell_death/imageanalysis/segmentation2/MFGTMPcx7_170803210001/MFGTMPcx7_170803210001_L14f27d0.C01\n",
      "Converting /Users/filipvitez/Skola/cell_death/imageanalysis/segmentation2/MFGTMPcx7_170803210001/MFGTMPcx7_170803210001_L14f27d0.C01 to 16-bit tiff format\n",
      "/Users/filipvitez/Skola/cell_death/imageanalysis/segmentation2/MFGTMPcx7_170803210001/MFGTMPcx7_170803210001_A01f29d0.C01\n",
      "Converting /Users/filipvitez/Skola/cell_death/imageanalysis/segmentation2/MFGTMPcx7_170803210001/MFGTMPcx7_170803210001_A01f29d0.C01 to 16-bit tiff format\n",
      "/Users/filipvitez/Skola/cell_death/imageanalysis/segmentation2/MFGTMPcx7_170803210001/MFGTMPcx7_170803210001_L13f27d0.C01\n",
      "Converting /Users/filipvitez/Skola/cell_death/imageanalysis/segmentation2/MFGTMPcx7_170803210001/MFGTMPcx7_170803210001_L13f27d0.C01 to 16-bit tiff format\n",
      "/Users/filipvitez/Skola/cell_death/imageanalysis/segmentation2/MFGTMPcx7_170803210001/MFGTMPcx7_170803210001_D04f27d0.C01\n",
      "Converting /Users/filipvitez/Skola/cell_death/imageanalysis/segmentation2/MFGTMPcx7_170803210001/MFGTMPcx7_170803210001_D04f27d0.C01 to 16-bit tiff format\n",
      "/Users/filipvitez/Skola/cell_death/imageanalysis/segmentation2/MFGTMPcx7_170803210001/MFGTMPcx7_170803210001_P09f27d0.C01\n",
      "Converting /Users/filipvitez/Skola/cell_death/imageanalysis/segmentation2/MFGTMPcx7_170803210001/MFGTMPcx7_170803210001_P09f27d0.C01 to 16-bit tiff format\n",
      "/Users/filipvitez/Skola/cell_death/imageanalysis/segmentation2/MFGTMPcx7_170803210001/MFGTMPcx7_170803210001_P17f28d0.C01\n",
      "Converting /Users/filipvitez/Skola/cell_death/imageanalysis/segmentation2/MFGTMPcx7_170803210001/MFGTMPcx7_170803210001_P17f28d0.C01 to 16-bit tiff format\n",
      "/Users/filipvitez/Skola/cell_death/imageanalysis/segmentation2/MFGTMPcx7_170803210001/MFGTMPcx7_170803210001_A05f27d0.C01\n",
      "Converting /Users/filipvitez/Skola/cell_death/imageanalysis/segmentation2/MFGTMPcx7_170803210001/MFGTMPcx7_170803210001_A05f27d0.C01 to 16-bit tiff format\n",
      "/Users/filipvitez/Skola/cell_death/imageanalysis/segmentation2/MFGTMPcx7_170803210001/MFGTMPcx7_170803210001_J12f29d0.C01\n",
      "Converting /Users/filipvitez/Skola/cell_death/imageanalysis/segmentation2/MFGTMPcx7_170803210001/MFGTMPcx7_170803210001_J12f29d0.C01 to 16-bit tiff format\n",
      "/Users/filipvitez/Skola/cell_death/imageanalysis/segmentation2/MFGTMPcx7_170803210001/MFGTMPcx7_170803210001_B18f27d0.C01\n",
      "Converting /Users/filipvitez/Skola/cell_death/imageanalysis/segmentation2/MFGTMPcx7_170803210001/MFGTMPcx7_170803210001_B18f27d0.C01 to 16-bit tiff format\n",
      "\n",
      "Finished conversion for 10 files\n",
      "********************************************\n",
      "\n",
      "/Users/filipvitez/Skola/cell_death/imageanalysis/segmentation2/MFGTMPcx7_170803210001/MFGTMPcx7_170803210001_P22f27d0.C01\n",
      "Converting /Users/filipvitez/Skola/cell_death/imageanalysis/segmentation2/MFGTMPcx7_170803210001/MFGTMPcx7_170803210001_P22f27d0.C01 to 16-bit tiff format\n",
      "/Users/filipvitez/Skola/cell_death/imageanalysis/segmentation2/MFGTMPcx7_170803210001/MFGTMPcx7_170803210001_I07f27d0.C01\n",
      "Converting /Users/filipvitez/Skola/cell_death/imageanalysis/segmentation2/MFGTMPcx7_170803210001/MFGTMPcx7_170803210001_I07f27d0.C01 to 16-bit tiff format\n",
      "/Users/filipvitez/Skola/cell_death/imageanalysis/segmentation2/MFGTMPcx7_170803210001/MFGTMPcx7_170803210001_B19f26d0.C01\n",
      "Converting /Users/filipvitez/Skola/cell_death/imageanalysis/segmentation2/MFGTMPcx7_170803210001/MFGTMPcx7_170803210001_B19f26d0.C01 to 16-bit tiff format\n",
      "/Users/filipvitez/Skola/cell_death/imageanalysis/segmentation2/MFGTMPcx7_170803210001/MFGTMPcx7_170803210001_O09f27d0.C01\n",
      "Converting /Users/filipvitez/Skola/cell_death/imageanalysis/segmentation2/MFGTMPcx7_170803210001/MFGTMPcx7_170803210001_O09f27d0.C01 to 16-bit tiff format\n",
      "/Users/filipvitez/Skola/cell_death/imageanalysis/segmentation2/MFGTMPcx7_170731090001/MFGTMPcx7_170731090001_I12f05d0.C01\n",
      "Converting /Users/filipvitez/Skola/cell_death/imageanalysis/segmentation2/MFGTMPcx7_170731090001/MFGTMPcx7_170731090001_I12f05d0.C01 to 16-bit tiff format\n",
      "/Users/filipvitez/Skola/cell_death/imageanalysis/segmentation2/MFGTMPcx7_170731090001/MFGTMPcx7_170731090001_B05f12d0.C01\n",
      "Converting /Users/filipvitez/Skola/cell_death/imageanalysis/segmentation2/MFGTMPcx7_170731090001/MFGTMPcx7_170731090001_B05f12d0.C01 to 16-bit tiff format\n",
      "/Users/filipvitez/Skola/cell_death/imageanalysis/segmentation2/MFGTMPcx7_170731090001/MFGTMPcx7_170731090001_K24f09d0.C01\n",
      "Converting /Users/filipvitez/Skola/cell_death/imageanalysis/segmentation2/MFGTMPcx7_170731090001/MFGTMPcx7_170731090001_K24f09d0.C01 to 16-bit tiff format\n",
      "/Users/filipvitez/Skola/cell_death/imageanalysis/segmentation2/MFGTMPcx7_170731090001/MFGTMPcx7_170731090001_D11f13d0.C01\n",
      "Converting /Users/filipvitez/Skola/cell_death/imageanalysis/segmentation2/MFGTMPcx7_170731090001/MFGTMPcx7_170731090001_D11f13d0.C01 to 16-bit tiff format\n",
      "/Users/filipvitez/Skola/cell_death/imageanalysis/segmentation2/MFGTMPcx7_170731090001/MFGTMPcx7_170731090001_I12f07d0.C01\n",
      "Converting /Users/filipvitez/Skola/cell_death/imageanalysis/segmentation2/MFGTMPcx7_170731090001/MFGTMPcx7_170731090001_I12f07d0.C01 to 16-bit tiff format\n",
      "/Users/filipvitez/Skola/cell_death/imageanalysis/segmentation2/MFGTMPcx7_170731090001/MFGTMPcx7_170731090001_B05f10d0.C01\n",
      "Converting /Users/filipvitez/Skola/cell_death/imageanalysis/segmentation2/MFGTMPcx7_170731090001/MFGTMPcx7_170731090001_B05f10d0.C01 to 16-bit tiff format\n",
      "\n",
      "Finished conversion for 20 files\n",
      "********************************************\n",
      "\n",
      "/Users/filipvitez/Skola/cell_death/imageanalysis/segmentation2/MFGTMPcx7_170731090001/MFGTMPcx7_170731090001_K24f10d0.C01\n",
      "Converting /Users/filipvitez/Skola/cell_death/imageanalysis/segmentation2/MFGTMPcx7_170731090001/MFGTMPcx7_170731090001_K24f10d0.C01 to 16-bit tiff format\n",
      "/Users/filipvitez/Skola/cell_death/imageanalysis/segmentation2/MFGTMPcx7_170731090001/MFGTMPcx7_170731090001_B14f13d0.C01\n",
      "Converting /Users/filipvitez/Skola/cell_death/imageanalysis/segmentation2/MFGTMPcx7_170731090001/MFGTMPcx7_170731090001_B14f13d0.C01 to 16-bit tiff format\n",
      "/Users/filipvitez/Skola/cell_death/imageanalysis/segmentation2/MFGTMPcx7_170731090001/MFGTMPcx7_170731090001_P01f11d0.C01\n",
      "Converting /Users/filipvitez/Skola/cell_death/imageanalysis/segmentation2/MFGTMPcx7_170731090001/MFGTMPcx7_170731090001_P01f11d0.C01 to 16-bit tiff format\n",
      "/Users/filipvitez/Skola/cell_death/imageanalysis/segmentation2/MFGTMPcx7_170731090001/MFGTMPcx7_170731090001_D11f15d0.C01\n",
      "Converting /Users/filipvitez/Skola/cell_death/imageanalysis/segmentation2/MFGTMPcx7_170731090001/MFGTMPcx7_170731090001_D11f15d0.C01 to 16-bit tiff format\n",
      "/Users/filipvitez/Skola/cell_death/imageanalysis/segmentation2/MFGTMPcx7_170731090001/MFGTMPcx7_170731090001_P01f14d0.C01\n",
      "Converting /Users/filipvitez/Skola/cell_death/imageanalysis/segmentation2/MFGTMPcx7_170731090001/MFGTMPcx7_170731090001_P01f14d0.C01 to 16-bit tiff format\n",
      "/Users/filipvitez/Skola/cell_death/imageanalysis/segmentation2/MFGTMPcx7_170731090001/MFGTMPcx7_170731090001_B14f09d0.C01\n",
      "Converting /Users/filipvitez/Skola/cell_death/imageanalysis/segmentation2/MFGTMPcx7_170731090001/MFGTMPcx7_170731090001_B14f09d0.C01 to 16-bit tiff format\n",
      "/Users/filipvitez/Skola/cell_death/imageanalysis/segmentation2/MFGTMPcx7_170731090001/MFGTMPcx7_170731090001_K05f05d0.C01\n",
      "Converting /Users/filipvitez/Skola/cell_death/imageanalysis/segmentation2/MFGTMPcx7_170731090001/MFGTMPcx7_170731090001_K05f05d0.C01 to 16-bit tiff format\n",
      "/Users/filipvitez/Skola/cell_death/imageanalysis/segmentation2/MFGTMPcx7_170731090001/MFGTMPcx7_170731090001_I12f02d0.C01\n",
      "Converting /Users/filipvitez/Skola/cell_death/imageanalysis/segmentation2/MFGTMPcx7_170731090001/MFGTMPcx7_170731090001_I12f02d0.C01 to 16-bit tiff format\n",
      "/Users/filipvitez/Skola/cell_death/imageanalysis/segmentation2/MFGTMPcx7_170731090001/MFGTMPcx7_170731090001_K05f07d0.C01\n",
      "Converting /Users/filipvitez/Skola/cell_death/imageanalysis/segmentation2/MFGTMPcx7_170731090001/MFGTMPcx7_170731090001_K05f07d0.C01 to 16-bit tiff format\n"
     ]
    },
    {
     "name": "stdout",
     "output_type": "stream",
     "text": [
      "/Users/filipvitez/Skola/cell_death/imageanalysis/segmentation2/MFGTMPcx7_170731090001/MFGTMPcx7_170731090001_A01f04d0.C01\n",
      "Converting /Users/filipvitez/Skola/cell_death/imageanalysis/segmentation2/MFGTMPcx7_170731090001/MFGTMPcx7_170731090001_A01f04d0.C01 to 16-bit tiff format\n",
      "\n",
      "Finished conversion for 30 files\n",
      "********************************************\n",
      "\n",
      "/Users/filipvitez/Skola/cell_death/imageanalysis/segmentation2/MFGTMPcx7_170731090001/MFGTMPcx7_170731090001_N05f14d0.C01\n",
      "Converting /Users/filipvitez/Skola/cell_death/imageanalysis/segmentation2/MFGTMPcx7_170731090001/MFGTMPcx7_170731090001_N05f14d0.C01 to 16-bit tiff format\n",
      "/Users/filipvitez/Skola/cell_death/imageanalysis/segmentation2/MFGTMPcx7_170731090001/MFGTMPcx7_170731090001_G15f03d0.C01\n",
      "Converting /Users/filipvitez/Skola/cell_death/imageanalysis/segmentation2/MFGTMPcx7_170731090001/MFGTMPcx7_170731090001_G15f03d0.C01 to 16-bit tiff format\n",
      "/Users/filipvitez/Skola/cell_death/imageanalysis/segmentation2/MFGTMPcx7_170731090001/MFGTMPcx7_170731090001_K24f04d0.C01\n",
      "Converting /Users/filipvitez/Skola/cell_death/imageanalysis/segmentation2/MFGTMPcx7_170731090001/MFGTMPcx7_170731090001_K24f04d0.C01 to 16-bit tiff format\n",
      "/Users/filipvitez/Skola/cell_death/imageanalysis/segmentation2/MFGTMPcx7_170731090001/MFGTMPcx7_170731090001_N05f12d0.C01\n",
      "Converting /Users/filipvitez/Skola/cell_death/imageanalysis/segmentation2/MFGTMPcx7_170731090001/MFGTMPcx7_170731090001_N05f12d0.C01 to 16-bit tiff format\n",
      "/Users/filipvitez/Skola/cell_death/imageanalysis/segmentation2/MFGTMPcx7_170731090001/MFGTMPcx7_170731090001_G15f00d0.C01\n",
      "Converting /Users/filipvitez/Skola/cell_death/imageanalysis/segmentation2/MFGTMPcx7_170731090001/MFGTMPcx7_170731090001_G15f00d0.C01 to 16-bit tiff format\n",
      "/Users/filipvitez/Skola/cell_death/imageanalysis/segmentation2/MFGTMPcx7_170702000001/MFGTMPcx7_170702000001_B14f07d0.C01\n",
      "Converting /Users/filipvitez/Skola/cell_death/imageanalysis/segmentation2/MFGTMPcx7_170702000001/MFGTMPcx7_170702000001_B14f07d0.C01 to 16-bit tiff format\n",
      "/Users/filipvitez/Skola/cell_death/imageanalysis/segmentation2/MFGTMPcx7_170702000001/MFGTMPcx7_170702000001_G14f03d0.C01\n",
      "Converting /Users/filipvitez/Skola/cell_death/imageanalysis/segmentation2/MFGTMPcx7_170702000001/MFGTMPcx7_170702000001_G14f03d0.C01 to 16-bit tiff format\n",
      "/Users/filipvitez/Skola/cell_death/imageanalysis/segmentation2/MFGTMPcx7_170702000001/MFGTMPcx7_170702000001_F24f14d0.C01\n",
      "Converting /Users/filipvitez/Skola/cell_death/imageanalysis/segmentation2/MFGTMPcx7_170702000001/MFGTMPcx7_170702000001_F24f14d0.C01 to 16-bit tiff format\n",
      "/Users/filipvitez/Skola/cell_death/imageanalysis/segmentation2/MFGTMPcx7_170702000001/MFGTMPcx7_170702000001_B23f07d0.C01\n",
      "Converting /Users/filipvitez/Skola/cell_death/imageanalysis/segmentation2/MFGTMPcx7_170702000001/MFGTMPcx7_170702000001_B23f07d0.C01 to 16-bit tiff format\n",
      "/Users/filipvitez/Skola/cell_death/imageanalysis/segmentation2/MFGTMPcx7_170702000001/MFGTMPcx7_170702000001_G07f02d0.C01\n",
      "Converting /Users/filipvitez/Skola/cell_death/imageanalysis/segmentation2/MFGTMPcx7_170702000001/MFGTMPcx7_170702000001_G07f02d0.C01 to 16-bit tiff format\n",
      "\n",
      "Finished conversion for 40 files\n",
      "********************************************\n",
      "\n",
      "/Users/filipvitez/Skola/cell_death/imageanalysis/segmentation2/MFGTMPcx7_170702000001/MFGTMPcx7_170702000001_F11f10d0.C01\n",
      "Converting /Users/filipvitez/Skola/cell_death/imageanalysis/segmentation2/MFGTMPcx7_170702000001/MFGTMPcx7_170702000001_F11f10d0.C01 to 16-bit tiff format\n",
      "/Users/filipvitez/Skola/cell_death/imageanalysis/segmentation2/MFGTMPcx7_170702000001/MFGTMPcx7_170702000001_D13f04d0.C01\n",
      "Converting /Users/filipvitez/Skola/cell_death/imageanalysis/segmentation2/MFGTMPcx7_170702000001/MFGTMPcx7_170702000001_D13f04d0.C01 to 16-bit tiff format\n",
      "/Users/filipvitez/Skola/cell_death/imageanalysis/segmentation2/MFGTMPcx7_170802000001/MFGTMPcx7_170802000001_I10f05d0.C01\n",
      "Converting /Users/filipvitez/Skola/cell_death/imageanalysis/segmentation2/MFGTMPcx7_170802000001/MFGTMPcx7_170802000001_I10f05d0.C01 to 16-bit tiff format\n",
      "/Users/filipvitez/Skola/cell_death/imageanalysis/segmentation2/MFGTMPcx7_170802000001/MFGTMPcx7_170802000001_F16f01d0.C01\n",
      "Converting /Users/filipvitez/Skola/cell_death/imageanalysis/segmentation2/MFGTMPcx7_170802000001/MFGTMPcx7_170802000001_F16f01d0.C01 to 16-bit tiff format\n",
      "/Users/filipvitez/Skola/cell_death/imageanalysis/segmentation2/MFGTMPcx7_170802000001/MFGTMPcx7_170802000001_N11f00d0.C01\n",
      "Converting /Users/filipvitez/Skola/cell_death/imageanalysis/segmentation2/MFGTMPcx7_170802000001/MFGTMPcx7_170802000001_N11f00d0.C01 to 16-bit tiff format\n",
      "/Users/filipvitez/Skola/cell_death/imageanalysis/segmentation2/MFGTMPcx7_170802000001/MFGTMPcx7_170802000001_J04f00d0.C01\n",
      "Converting /Users/filipvitez/Skola/cell_death/imageanalysis/segmentation2/MFGTMPcx7_170802000001/MFGTMPcx7_170802000001_J04f00d0.C01 to 16-bit tiff format\n",
      "/Users/filipvitez/Skola/cell_death/imageanalysis/segmentation2/MFGTMPcx7_170802000001/MFGTMPcx7_170802000001_F15f14d0.C01\n",
      "Converting /Users/filipvitez/Skola/cell_death/imageanalysis/segmentation2/MFGTMPcx7_170802000001/MFGTMPcx7_170802000001_F15f14d0.C01 to 16-bit tiff format\n",
      "/Users/filipvitez/Skola/cell_death/imageanalysis/segmentation2/MFGTMPcx7_170802000001/MFGTMPcx7_170802000001_A01f01d0.C01\n",
      "Converting /Users/filipvitez/Skola/cell_death/imageanalysis/segmentation2/MFGTMPcx7_170802000001/MFGTMPcx7_170802000001_A01f01d0.C01 to 16-bit tiff format\n",
      "/Users/filipvitez/Skola/cell_death/imageanalysis/segmentation2/MFGTMPcx7_170802000001/MFGTMPcx7_170802000001_F16f00d0.C01\n",
      "Converting /Users/filipvitez/Skola/cell_death/imageanalysis/segmentation2/MFGTMPcx7_170802000001/MFGTMPcx7_170802000001_F16f00d0.C01 to 16-bit tiff format\n",
      "/Users/filipvitez/Skola/cell_death/imageanalysis/segmentation2/MFGTMPcx7_170802000001/MFGTMPcx7_170802000001_J11f13d0.C01\n",
      "Converting /Users/filipvitez/Skola/cell_death/imageanalysis/segmentation2/MFGTMPcx7_170802000001/MFGTMPcx7_170802000001_J11f13d0.C01 to 16-bit tiff format\n",
      "\n",
      "Finished conversion for 50 files\n",
      "********************************************\n",
      "\n",
      "/Users/filipvitez/Skola/cell_death/imageanalysis/segmentation2/MFGTMPcx7_170802000001/MFGTMPcx7_170802000001_I10f04d0.C01\n",
      "Converting /Users/filipvitez/Skola/cell_death/imageanalysis/segmentation2/MFGTMPcx7_170802000001/MFGTMPcx7_170802000001_I10f04d0.C01 to 16-bit tiff format\n",
      "/Users/filipvitez/Skola/cell_death/imageanalysis/segmentation2/MFGTMPcx7_170802000001/MFGTMPcx7_170802000001_L04f10d0.C01\n",
      "Converting /Users/filipvitez/Skola/cell_death/imageanalysis/segmentation2/MFGTMPcx7_170802000001/MFGTMPcx7_170802000001_L04f10d0.C01 to 16-bit tiff format\n",
      "/Users/filipvitez/Skola/cell_death/imageanalysis/segmentation2/MFGTMPcx7_170802000001/MFGTMPcx7_170802000001_A01f05d0.C01\n",
      "Converting /Users/filipvitez/Skola/cell_death/imageanalysis/segmentation2/MFGTMPcx7_170802000001/MFGTMPcx7_170802000001_A01f05d0.C01 to 16-bit tiff format\n",
      "/Users/filipvitez/Skola/cell_death/imageanalysis/segmentation2/MFGTMPcx7_170802000001/MFGTMPcx7_170802000001_I12f01d0.C01\n",
      "Converting /Users/filipvitez/Skola/cell_death/imageanalysis/segmentation2/MFGTMPcx7_170802000001/MFGTMPcx7_170802000001_I12f01d0.C01 to 16-bit tiff format\n",
      "/Users/filipvitez/Skola/cell_death/imageanalysis/segmentation2/MFGTMPcx7_170802000001/MFGTMPcx7_170802000001_I09f00d0.C01\n",
      "Converting /Users/filipvitez/Skola/cell_death/imageanalysis/segmentation2/MFGTMPcx7_170802000001/MFGTMPcx7_170802000001_I09f00d0.C01 to 16-bit tiff format\n",
      "/Users/filipvitez/Skola/cell_death/imageanalysis/segmentation2/MFGTMPcx7_170802000001/MFGTMPcx7_170802000001_P24f12d0.C01\n",
      "Converting /Users/filipvitez/Skola/cell_death/imageanalysis/segmentation2/MFGTMPcx7_170802000001/MFGTMPcx7_170802000001_P24f12d0.C01 to 16-bit tiff format\n",
      "/Users/filipvitez/Skola/cell_death/imageanalysis/segmentation2/MFGTMPcx7_170802000001/MFGTMPcx7_170802000001_I07f13d0.C01\n",
      "Converting /Users/filipvitez/Skola/cell_death/imageanalysis/segmentation2/MFGTMPcx7_170802000001/MFGTMPcx7_170802000001_I07f13d0.C01 to 16-bit tiff format\n",
      "/Users/filipvitez/Skola/cell_death/imageanalysis/segmentation2/MFGTMPcx7_170802000001/MFGTMPcx7_170802000001_I09f02d0.C01\n",
      "Converting /Users/filipvitez/Skola/cell_death/imageanalysis/segmentation2/MFGTMPcx7_170802000001/MFGTMPcx7_170802000001_I09f02d0.C01 to 16-bit tiff format\n"
     ]
    },
    {
     "name": "stdout",
     "output_type": "stream",
     "text": [
      "/Users/filipvitez/Skola/cell_death/imageanalysis/segmentation2/MFGTMPcx7_170802000001/MFGTMPcx7_170802000001_I12f05d0.C01\n",
      "Converting /Users/filipvitez/Skola/cell_death/imageanalysis/segmentation2/MFGTMPcx7_170802000001/MFGTMPcx7_170802000001_I12f05d0.C01 to 16-bit tiff format\n",
      "/Users/filipvitez/Skola/cell_death/imageanalysis/segmentation2/MFGTMPcx7_170802000001/MFGTMPcx7_170802000001_I07f12d0.C01\n",
      "Converting /Users/filipvitez/Skola/cell_death/imageanalysis/segmentation2/MFGTMPcx7_170802000001/MFGTMPcx7_170802000001_I07f12d0.C01 to 16-bit tiff format\n",
      "\n",
      "Finished conversion for 60 files\n",
      "********************************************\n",
      "\n",
      "/Users/filipvitez/Skola/cell_death/imageanalysis/segmentation2/MFGTMPcx7_170802000001/MFGTMPcx7_170802000001_I07f10d0.C01\n",
      "Converting /Users/filipvitez/Skola/cell_death/imageanalysis/segmentation2/MFGTMPcx7_170802000001/MFGTMPcx7_170802000001_I07f10d0.C01 to 16-bit tiff format\n",
      "/Users/filipvitez/Skola/cell_death/imageanalysis/segmentation2/MFGTMPcx7_170802000001/MFGTMPcx7_170802000001_P24f15d0.C01\n",
      "Converting /Users/filipvitez/Skola/cell_death/imageanalysis/segmentation2/MFGTMPcx7_170802000001/MFGTMPcx7_170802000001_P24f15d0.C01 to 16-bit tiff format\n",
      "/Users/filipvitez/Skola/cell_death/imageanalysis/segmentation2/MFGTMPcx7_170702090001/MFGTMPcx7_170702090001_A20f02d0.C01\n",
      "Converting /Users/filipvitez/Skola/cell_death/imageanalysis/segmentation2/MFGTMPcx7_170702090001/MFGTMPcx7_170702090001_A20f02d0.C01 to 16-bit tiff format\n",
      "/Users/filipvitez/Skola/cell_death/imageanalysis/segmentation2/MFGTMPcx7_170702090001/MFGTMPcx7_170702090001_P07f14d0.C01\n",
      "Converting /Users/filipvitez/Skola/cell_death/imageanalysis/segmentation2/MFGTMPcx7_170702090001/MFGTMPcx7_170702090001_P07f14d0.C01 to 16-bit tiff format\n",
      "/Users/filipvitez/Skola/cell_death/imageanalysis/segmentation2/MFGTMPcx7_170702090001/MFGTMPcx7_170702090001_N06f14d0.C01\n",
      "Converting /Users/filipvitez/Skola/cell_death/imageanalysis/segmentation2/MFGTMPcx7_170702090001/MFGTMPcx7_170702090001_N06f14d0.C01 to 16-bit tiff format\n",
      "/Users/filipvitez/Skola/cell_death/imageanalysis/segmentation2/MFGTMPcx7_170702090001/MFGTMPcx7_170702090001_A10f11d0.C01\n",
      "Converting /Users/filipvitez/Skola/cell_death/imageanalysis/segmentation2/MFGTMPcx7_170702090001/MFGTMPcx7_170702090001_A10f11d0.C01 to 16-bit tiff format\n",
      "/Users/filipvitez/Skola/cell_death/imageanalysis/segmentation2/MFGTMPcx7_170702090001/MFGTMPcx7_170702090001_O02f15d0.C01\n",
      "Converting /Users/filipvitez/Skola/cell_death/imageanalysis/segmentation2/MFGTMPcx7_170702090001/MFGTMPcx7_170702090001_O02f15d0.C01 to 16-bit tiff format\n",
      "/Users/filipvitez/Skola/cell_death/imageanalysis/segmentation2/MFGTMPcx7_170702090001/MFGTMPcx7_170702090001_C09f01d0.C01\n",
      "Converting /Users/filipvitez/Skola/cell_death/imageanalysis/segmentation2/MFGTMPcx7_170702090001/MFGTMPcx7_170702090001_C09f01d0.C01 to 16-bit tiff format\n",
      "/Users/filipvitez/Skola/cell_death/imageanalysis/segmentation2/MFGTMPcx7_170702090001/MFGTMPcx7_170702090001_H03f10d0.C01\n",
      "Converting /Users/filipvitez/Skola/cell_death/imageanalysis/segmentation2/MFGTMPcx7_170702090001/MFGTMPcx7_170702090001_H03f10d0.C01 to 16-bit tiff format\n",
      "/Users/filipvitez/Skola/cell_death/imageanalysis/segmentation2/MFGTMPcx7_170702090001/MFGTMPcx7_170702090001_L21f03d0.C01\n",
      "Converting /Users/filipvitez/Skola/cell_death/imageanalysis/segmentation2/MFGTMPcx7_170702090001/MFGTMPcx7_170702090001_L21f03d0.C01 to 16-bit tiff format\n",
      "\n",
      "Finished conversion for 70 files\n",
      "********************************************\n",
      "\n",
      "/Users/filipvitez/Skola/cell_death/imageanalysis/segmentation2/MFGTMPcx7_170702090001/MFGTMPcx7_170702090001_F20f06d0.C01\n",
      "Converting /Users/filipvitez/Skola/cell_death/imageanalysis/segmentation2/MFGTMPcx7_170702090001/MFGTMPcx7_170702090001_F20f06d0.C01 to 16-bit tiff format\n",
      "/Users/filipvitez/Skola/cell_death/imageanalysis/segmentation2/MFGTMPcx7_170702090001/MFGTMPcx7_170702090001_B08f09d0.C01\n",
      "Converting /Users/filipvitez/Skola/cell_death/imageanalysis/segmentation2/MFGTMPcx7_170702090001/MFGTMPcx7_170702090001_B08f09d0.C01 to 16-bit tiff format\n",
      "/Users/filipvitez/Skola/cell_death/imageanalysis/segmentation2/MFGTMPcx7_170702090001/MFGTMPcx7_170702090001_A02f07d0.C01\n",
      "Converting /Users/filipvitez/Skola/cell_death/imageanalysis/segmentation2/MFGTMPcx7_170702090001/MFGTMPcx7_170702090001_A02f07d0.C01 to 16-bit tiff format\n",
      "/Users/filipvitez/Skola/cell_death/imageanalysis/segmentation2/MFGTMPcx7_170702090001/MFGTMPcx7_170702090001_M18f10d0.C01\n",
      "Converting /Users/filipvitez/Skola/cell_death/imageanalysis/segmentation2/MFGTMPcx7_170702090001/MFGTMPcx7_170702090001_M18f10d0.C01 to 16-bit tiff format\n",
      "/Users/filipvitez/Skola/cell_death/imageanalysis/segmentation2/MFGTMPcx7_170702090001/MFGTMPcx7_170702090001_A12f00d0.C01\n",
      "Converting /Users/filipvitez/Skola/cell_death/imageanalysis/segmentation2/MFGTMPcx7_170702090001/MFGTMPcx7_170702090001_A12f00d0.C01 to 16-bit tiff format\n",
      "/Users/filipvitez/Skola/cell_death/imageanalysis/segmentation2/MFGTMPcx7_170702090001/MFGTMPcx7_170702090001_K22f14d0.C01\n",
      "Converting /Users/filipvitez/Skola/cell_death/imageanalysis/segmentation2/MFGTMPcx7_170702090001/MFGTMPcx7_170702090001_K22f14d0.C01 to 16-bit tiff format\n",
      "/Users/filipvitez/Skola/cell_death/imageanalysis/segmentation2/MFGTMPcx7_170702090001/MFGTMPcx7_170702090001_J11f10d0.C01\n",
      "Converting /Users/filipvitez/Skola/cell_death/imageanalysis/segmentation2/MFGTMPcx7_170702090001/MFGTMPcx7_170702090001_J11f10d0.C01 to 16-bit tiff format\n",
      "/Users/filipvitez/Skola/cell_death/imageanalysis/segmentation2/MFGTMPcx7_170702090001/MFGTMPcx7_170702090001_I09f10d0.C01\n",
      "Converting /Users/filipvitez/Skola/cell_death/imageanalysis/segmentation2/MFGTMPcx7_170702090001/MFGTMPcx7_170702090001_I09f10d0.C01 to 16-bit tiff format\n",
      "/Users/filipvitez/Skola/cell_death/imageanalysis/segmentation2/MFGTMPcx7_170702090001/MFGTMPcx7_170702090001_M06f13d0.C01\n",
      "Converting /Users/filipvitez/Skola/cell_death/imageanalysis/segmentation2/MFGTMPcx7_170702090001/MFGTMPcx7_170702090001_M06f13d0.C01 to 16-bit tiff format\n",
      "/Users/filipvitez/Skola/cell_death/imageanalysis/segmentation2/MFGTMPcx7_170702090001/MFGTMPcx7_170702090001_H04f01d0.C01\n",
      "Converting /Users/filipvitez/Skola/cell_death/imageanalysis/segmentation2/MFGTMPcx7_170702090001/MFGTMPcx7_170702090001_H04f01d0.C01 to 16-bit tiff format\n",
      "\n",
      "Finished conversion for 80 files\n",
      "********************************************\n",
      "\n",
      "/Users/filipvitez/Skola/cell_death/imageanalysis/segmentation2/MFGTMPcx7_170702090001/MFGTMPcx7_170702090001_A08f09d0.C01\n",
      "Converting /Users/filipvitez/Skola/cell_death/imageanalysis/segmentation2/MFGTMPcx7_170702090001/MFGTMPcx7_170702090001_A08f09d0.C01 to 16-bit tiff format\n",
      "/Users/filipvitez/Skola/cell_death/imageanalysis/segmentation2/MFGTMPcx7_170702090001/MFGTMPcx7_170702090001_L08f09d0.C01\n",
      "Converting /Users/filipvitez/Skola/cell_death/imageanalysis/segmentation2/MFGTMPcx7_170702090001/MFGTMPcx7_170702090001_L08f09d0.C01 to 16-bit tiff format\n",
      "/Users/filipvitez/Skola/cell_death/imageanalysis/segmentation2/MFGTMPcx7_170702090001/MFGTMPcx7_170702090001_A08f12d0.C01\n",
      "Converting /Users/filipvitez/Skola/cell_death/imageanalysis/segmentation2/MFGTMPcx7_170702090001/MFGTMPcx7_170702090001_A08f12d0.C01 to 16-bit tiff format\n",
      "/Users/filipvitez/Skola/cell_death/imageanalysis/segmentation2/MFGTMPcx7_170702090001/MFGTMPcx7_170702090001_B22f15d0.C01\n",
      "Converting /Users/filipvitez/Skola/cell_death/imageanalysis/segmentation2/MFGTMPcx7_170702090001/MFGTMPcx7_170702090001_B22f15d0.C01 to 16-bit tiff format\n",
      "/Users/filipvitez/Skola/cell_death/imageanalysis/segmentation2/MFGTMPcx7_170702090001/MFGTMPcx7_170702090001_C16f04d0.C01\n",
      "Converting /Users/filipvitez/Skola/cell_death/imageanalysis/segmentation2/MFGTMPcx7_170702090001/MFGTMPcx7_170702090001_C16f04d0.C01 to 16-bit tiff format\n",
      "/Users/filipvitez/Skola/cell_death/imageanalysis/segmentation2/MFGTMPcx7_170702090001/MFGTMPcx7_170702090001_F20f14d0.C01\n",
      "Converting /Users/filipvitez/Skola/cell_death/imageanalysis/segmentation2/MFGTMPcx7_170702090001/MFGTMPcx7_170702090001_F20f14d0.C01 to 16-bit tiff format\n",
      "/Users/filipvitez/Skola/cell_death/imageanalysis/segmentation2/MFGTMPcx7_170702090001/MFGTMPcx7_170702090001_P01f02d0.C01\n",
      "Converting /Users/filipvitez/Skola/cell_death/imageanalysis/segmentation2/MFGTMPcx7_170702090001/MFGTMPcx7_170702090001_P01f02d0.C01 to 16-bit tiff format\n"
     ]
    },
    {
     "name": "stdout",
     "output_type": "stream",
     "text": [
      "/Users/filipvitez/Skola/cell_death/imageanalysis/segmentation2/MFGTMPcx7_170702090001/MFGTMPcx7_170702090001_G03f06d0.C01\n",
      "Converting /Users/filipvitez/Skola/cell_death/imageanalysis/segmentation2/MFGTMPcx7_170702090001/MFGTMPcx7_170702090001_G03f06d0.C01 to 16-bit tiff format\n",
      "/Users/filipvitez/Skola/cell_death/imageanalysis/segmentation2/MFGTMPcx7_170702090001/MFGTMPcx7_170702090001_C08f14d0.C01\n",
      "Converting /Users/filipvitez/Skola/cell_death/imageanalysis/segmentation2/MFGTMPcx7_170702090001/MFGTMPcx7_170702090001_C08f14d0.C01 to 16-bit tiff format\n",
      "/Users/filipvitez/Skola/cell_death/imageanalysis/segmentation2/MFGTMPcx7_170702090001/MFGTMPcx7_170702090001_J12f07d0.C01\n",
      "Converting /Users/filipvitez/Skola/cell_death/imageanalysis/segmentation2/MFGTMPcx7_170702090001/MFGTMPcx7_170702090001_J12f07d0.C01 to 16-bit tiff format\n",
      "\n",
      "Finished conversion for 90 files\n",
      "********************************************\n",
      "\n",
      "/Users/filipvitez/Skola/cell_death/imageanalysis/segmentation2/MFGTMPcx7_170702090001/MFGTMPcx7_170702090001_G03f02d0.C01\n",
      "Converting /Users/filipvitez/Skola/cell_death/imageanalysis/segmentation2/MFGTMPcx7_170702090001/MFGTMPcx7_170702090001_G03f02d0.C01 to 16-bit tiff format\n",
      "/Users/filipvitez/Skola/cell_death/imageanalysis/segmentation2/MFGTMPcx7_170702090001/MFGTMPcx7_170702090001_N19f08d0.C01\n",
      "Converting /Users/filipvitez/Skola/cell_death/imageanalysis/segmentation2/MFGTMPcx7_170702090001/MFGTMPcx7_170702090001_N19f08d0.C01 to 16-bit tiff format\n",
      "/Users/filipvitez/Skola/cell_death/imageanalysis/segmentation2/MFGTMPcx7_170702090001/MFGTMPcx7_170702090001_I21f13d0.C01\n",
      "Converting /Users/filipvitez/Skola/cell_death/imageanalysis/segmentation2/MFGTMPcx7_170702090001/MFGTMPcx7_170702090001_I21f13d0.C01 to 16-bit tiff format\n",
      "/Users/filipvitez/Skola/cell_death/imageanalysis/segmentation2/MFGTMPcx7_170702090001/MFGTMPcx7_170702090001_P08f09d0.C01\n",
      "Converting /Users/filipvitez/Skola/cell_death/imageanalysis/segmentation2/MFGTMPcx7_170702090001/MFGTMPcx7_170702090001_P08f09d0.C01 to 16-bit tiff format\n",
      "/Users/filipvitez/Skola/cell_death/imageanalysis/segmentation2/MFGTMPcx7_170702090001/MFGTMPcx7_170702090001_K22f04d0.C01\n",
      "Converting /Users/filipvitez/Skola/cell_death/imageanalysis/segmentation2/MFGTMPcx7_170702090001/MFGTMPcx7_170702090001_K22f04d0.C01 to 16-bit tiff format\n",
      "/Users/filipvitez/Skola/cell_death/imageanalysis/segmentation2/MFGTMPcx7_170801050001/MFGTMPcx7_170801050001_A01f03d0.C01\n",
      "Converting /Users/filipvitez/Skola/cell_death/imageanalysis/segmentation2/MFGTMPcx7_170801050001/MFGTMPcx7_170801050001_A01f03d0.C01 to 16-bit tiff format\n",
      "/Users/filipvitez/Skola/cell_death/imageanalysis/segmentation2/MFGTMPcx7_170801050001/MFGTMPcx7_170801050001_A01f01d0.C01\n",
      "Converting /Users/filipvitez/Skola/cell_death/imageanalysis/segmentation2/MFGTMPcx7_170801050001/MFGTMPcx7_170801050001_A01f01d0.C01 to 16-bit tiff format\n",
      "/Users/filipvitez/Skola/cell_death/imageanalysis/segmentation2/MFGTMPcx7_170801050001/MFGTMPcx7_170801050001_A01f02d0.C01\n",
      "Converting /Users/filipvitez/Skola/cell_death/imageanalysis/segmentation2/MFGTMPcx7_170801050001/MFGTMPcx7_170801050001_A01f02d0.C01 to 16-bit tiff format\n",
      "/Users/filipvitez/Skola/cell_death/imageanalysis/segmentation2/MFGTMPcx7_170801050001/MFGTMPcx7_170801050001_G02f01d0.C01\n",
      "Converting /Users/filipvitez/Skola/cell_death/imageanalysis/segmentation2/MFGTMPcx7_170801050001/MFGTMPcx7_170801050001_G02f01d0.C01 to 16-bit tiff format\n",
      "/Users/filipvitez/Skola/cell_death/imageanalysis/segmentation2/MFGTMPcx7_170801050001/MFGTMPcx7_170801050001_A01f04d0.C01\n",
      "Converting /Users/filipvitez/Skola/cell_death/imageanalysis/segmentation2/MFGTMPcx7_170801050001/MFGTMPcx7_170801050001_A01f04d0.C01 to 16-bit tiff format\n",
      "\n",
      "Finished conversion for 100 files\n",
      "********************************************\n",
      "\n"
     ]
    }
   ],
   "source": [
    "# CONVERT C01 TO 16-BIT TIFF FORMAT\n",
    "k = 0\n",
    "for i,j in zip(C01_files, tiff_files):\n",
    "    if os.path.isfile(j):\n",
    "        print('The tiff-file {} already exists'.format(j))\n",
    "        next\n",
    "    else:\n",
    "        print(i)\n",
    "        print('Converting {} to 16-bit tiff format'.format(i))\n",
    "        #!chmod +x i\n",
    "        subprocess.run(['bfconvert', '-overwrite', '-nogroup',i,j])\n",
    "        subprocess.run(['convert', j, '-auto-level', '-depth', '16', '-define', 'quantum:format=unsigned', '-type', 'grayscale', j])\n",
    "        k = k + 1\n",
    "        if k%10 == 0:\n",
    "            print('\\nFinished conversion for {} files'.format(k))\n",
    "            print(\"********************************************\\n\")"
   ]
  },
  {
   "cell_type": "code",
   "execution_count": null,
   "metadata": {},
   "outputs": [],
   "source": []
  }
 ],
 "metadata": {
  "kernelspec": {
   "display_name": "Python 3",
   "language": "python",
   "name": "python3"
  },
  "language_info": {
   "codemirror_mode": {
    "name": "ipython",
    "version": 3
   },
   "file_extension": ".py",
   "mimetype": "text/x-python",
   "name": "python",
   "nbconvert_exporter": "python",
   "pygments_lexer": "ipython3",
   "version": "3.7.1"
  },
  "varInspector": {
   "cols": {
    "lenName": 16,
    "lenType": 16,
    "lenVar": 40
   },
   "kernels_config": {
    "python": {
     "delete_cmd_postfix": "",
     "delete_cmd_prefix": "del ",
     "library": "var_list.py",
     "varRefreshCmd": "print(var_dic_list())"
    },
    "r": {
     "delete_cmd_postfix": ") ",
     "delete_cmd_prefix": "rm(",
     "library": "var_list.r",
     "varRefreshCmd": "cat(var_dic_list()) "
    }
   },
   "types_to_exclude": [
    "module",
    "function",
    "builtin_function_or_method",
    "instance",
    "_Feature"
   ],
   "window_display": false
  }
 },
 "nbformat": 4,
 "nbformat_minor": 2
}
