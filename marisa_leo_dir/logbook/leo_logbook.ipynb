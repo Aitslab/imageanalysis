{
 "cells": [
  {
   "cell_type": "markdown",
   "id": "1599a432",
   "metadata": {},
   "source": [
    "# Logbook\n",
    "### Leo Westerberg\n",
    "***"
   ]
  },
  {
   "cell_type": "markdown",
   "id": "c4e2c031",
   "metadata": {},
   "source": [
    "\n",
    "#### Date:\n",
    "\n",
    "#### Project:\n",
    "\n",
    "#### Aim:\n",
    "\n",
    "#### Stepwise description of work:\n",
    "\n",
    "#### Result/Conclusion: \n",
    "\n",
    "#### Next steps: \n",
    "*** "
   ]
  },
  {
   "cell_type": "code",
   "execution_count": null,
   "id": "0e904fc3",
   "metadata": {},
   "outputs": [],
   "source": []
  }
 ],
 "metadata": {
  "kernelspec": {
   "display_name": "Python 3 (ipykernel)",
   "language": "python",
   "name": "python3"
  },
  "language_info": {
   "codemirror_mode": {
    "name": "ipython",
    "version": 3
   },
   "file_extension": ".py",
   "mimetype": "text/x-python",
   "name": "python",
   "nbconvert_exporter": "python",
   "pygments_lexer": "ipython3",
   "version": "3.9.7"
  }
 },
 "nbformat": 4,
 "nbformat_minor": 5
}
