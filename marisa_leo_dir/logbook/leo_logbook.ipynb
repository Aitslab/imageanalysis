{
 "cells": [
  {
   "cell_type": "markdown",
   "id": "1599a432",
   "metadata": {},
   "source": [
    "# Logbook\n",
    "### Leo Westerberg\n",
    "***"
   ]
  },
  {
   "cell_type": "markdown",
   "id": "c4e2c031",
   "metadata": {},
   "source": [
    "\n",
    "#### Date: 5 april\n",
    "\n",
    "#### Project: \n",
    "Image analysis for high-throughput microscopy screening\n",
    "\n",
    "#### Aim: \n",
    "To understand how the hoVer-Net is built and what part of the github code belongs to what in the architecture\n",
    "\n",
    "#### Stepwise description of work:\n",
    "* Read the papers about HoVer-Net to truly understand its concept\n",
    "* Try to extract code which belongs to each part of the model code\n",
    "* Try to filter out the part which belongs to classification\n",
    "* Create a notebook for example code comment your results\n",
    "\n",
    "#### Result/Conclusion: \n",
    "After having a hard time understanding the HoVer-Net and its underlying structure, I found a great video which explains the concepts thoroughly: https://www.youtube.com/watch?v=PfDauqZdUCE and now I understand each part of the architecture and what its benefits are.\n",
    "\n",
    "Going through the code in the HoVer-Net github repositoty, was great for getting some connection between intuition and code and I created some trivial comments in a newly created notebook.\n",
    "\n",
    "#### Next steps: \n",
    "* Get a deeper understanding how input is passed into the model\n",
    "* Understand how to use Cvat\n",
    "* Annotate some images\n",
    "* Setting up our own segmentation model based on code in the ***example_code.ipynb*** notebook\n",
    "*** "
   ]
  },
  {
   "cell_type": "markdown",
   "id": "947de287",
   "metadata": {},
   "source": [
    "\n",
    "#### Date: 6 april\n",
    "\n",
    "#### Project: \n",
    "Image analysis for high-throughput microscopy screening\n",
    "\n",
    "#### Aim: \n",
    "Understand the imput to the HoVer-Net and then try to run the HoVer-Net on Google Collab to better understand its underlying structure with the example data\n",
    "#### Stepwise description of work:\n",
    "* Browse the code and watch the input data\n",
    "* Clone the project att step by step transfer parts to google collab\n",
    "\n",
    "\n",
    "#### Result/Conclusion: \n",
    "The result of the day was that we got a better understanding of the data passed into the HoVer-Net. We also tried to run the project on our own laptops with the example data. After bumping into several import errors and configuration differences,, we tried to upload the project to Google collab but came across many hard bugs and errors when trying the copy and paste code into the notebook partwise.\n",
    "#### Next steps: \n",
    "* Continue to setup the project on Google Collab\n",
    "* Annotate some images\n",
    "*** "
   ]
  }
 ],
 "metadata": {
  "kernelspec": {
   "display_name": "Python 3 (ipykernel)",
   "language": "python",
   "name": "python3"
  },
  "language_info": {
   "codemirror_mode": {
    "name": "ipython",
    "version": 3
   },
   "file_extension": ".py",
   "mimetype": "text/x-python",
   "name": "python",
   "nbconvert_exporter": "python",
   "pygments_lexer": "ipython3",
   "version": "3.9.7"
  }
 },
 "nbformat": 4,
 "nbformat_minor": 5
}
