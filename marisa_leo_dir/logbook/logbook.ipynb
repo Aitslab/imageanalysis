{
 "cells": [
  {
   "cell_type": "markdown",
   "id": "1599a432",
   "metadata": {},
   "source": [
    "# Logbook\n",
    "### Leo Westerberg & Marisa Wodrich\n",
    "***"
   ]
  },
  {
   "cell_type": "markdown",
   "id": "c4e2c031",
   "metadata": {},
   "source": [
    "\n",
    "#### Date: 5 april\n",
    "\n",
    "#### Project: \n",
    "Image analysis for high-throughput microscopy screening\n",
    "\n",
    "#### Aim: \n",
    "To understand how the hoVer-Net is built and what part of the github code belongs to what in the architecture\n",
    "\n",
    "#### Stepwise description of work:\n",
    "* Read the papers about HoVer-Net to truly understand its concept\n",
    "* Try to extract code which belongs to each part of the model code\n",
    "* Try to filter out the part which belongs to classification\n",
    "* Create a notebook for example code comment your results\n",
    "\n",
    "#### Result/Conclusion: \n",
    "After having a hard time understanding the HoVer-Net and its underlying structure, https://www.sciencedirect.com/science/article/abs/pii/S1361841519301045?via%3Dihub, I found a great video which explains the concepts thoroughly: https://www.youtube.com/watch?v=PfDauqZdUCE and now I understand each part of the architecture and what its benefits are.\n",
    "\n",
    "Going through the code in the HoVer-Net github repositoty, was great for getting some connection between intuition and code and I created some trivial comments in a newly created notebook. \n",
    "https://github.com/Aitslab/imageanalysis/blob/master/marisa_leo_dir/example_code.ipynb\n",
    "\n",
    "#### Next steps: \n",
    "* Get a deeper understanding how input is passed into the model\n",
    "* Understand how to use Cvat\n",
    "* Annotate some images\n",
    "* Setting up our own segmentation model based on code in the ***example_code.ipynb*** notebook\n",
    "*** "
   ]
  },
  {
   "cell_type": "markdown",
   "id": "947de287",
   "metadata": {},
   "source": [
    "\n",
    "#### Date: 6 april\n",
    "\n",
    "#### Project: \n",
    "Image analysis for high-throughput microscopy screening\n",
    "\n",
    "#### Aim: \n",
    "Understand the imput to the HoVer-Net and then try to run the HoVer-Net on Google Collab to better understand its underlying structure with the example data\n",
    "#### Stepwise description of work:\n",
    "* Browse the code and watch the input data\n",
    "* Clone the project att step by step transfer parts to google collab\n",
    "\n",
    "\n",
    "#### Result/Conclusion: \n",
    "The result of the day was that we got a better understanding of the data passed into the HoVer-Net. We also tried to run the project on our own laptops with the example data. After bumping into several import errors and configuration differences, we tried to upload the project to Google collab but came across many hard bugs and errors when trying the copy and paste code into the notebook partwise.\n",
    "#### Next steps: \n",
    "* Continue to setup the project on Google Collab\n",
    "* Annotate some images\n",
    "*** "
   ]
  },
  {
   "cell_type": "markdown",
   "id": "a4f15926",
   "metadata": {},
   "source": [
    "\n",
    "#### Date: 8 april\n",
    "\n",
    "#### Project: \n",
    "Image analysis for high-throughput microscopy screening\n",
    "\n",
    "#### Aim: \n",
    "Try to get HoverNet or MicroNet to work on my machine also setting upp the report document\n",
    "\n",
    "#### Current setup\n",
    "\n",
    "\n",
    "#### Stepwise description of work:\n",
    "\n",
    "\n",
    "* Try to fix the error of:\n",
    "2022-04-08 22:32:47.231415: W tensorflow/stream_executor/platform/default/dso_loader.cc:64] Could not load dynamic library 'libcudart.so.11.0'; dlerror: libcudart.so.11.0: cannot open shared object file: No such file or directory\n",
    "\n",
    "AND\n",
    "\n",
    "File \"src/train.py\", line 270, in <module>\n",
    "    os.environ['CUDA_VISIBLE_DEVICES'] = args.gpu\n",
    "  File \"/home/leo/anaconda3/envs/hovernet/lib/python3.6/os.py\", line 674, in __setitem__\n",
    "    value = self.encodevalue(value)\n",
    "  File \"/home/leo/anaconda3/envs/hovernet/lib/python3.6/os.py\", line 744, in encode\n",
    "    raise TypeError(\"str expected, not %s\" % type(value).__name__)\n",
    "TypeError: str expected, not NoneType\n",
    "\n",
    "\n",
    "* Creating wordfile with IEEE template and share with supervisors\n",
    "#### Result/Conclusion: \n",
    "Finally the first error was solved with the following commands in a specific conda enviroment\n",
    "\n",
    "wget https://developer.download.nvidia.com/compute/cuda/repos/ubuntu2004/x86_64/cuda-ubuntu2004.pin\n",
    "sudo mv cuda-ubuntu2004.pin /etc/apt/preferences.d/cuda-repository-pin-600\n",
    "wget https://developer.download.nvidia.com/compute/cuda/11.3.1/local_installers/cuda-repo-ubuntu2004-11-3-local_11.3.1-465.19.01-1_amd64.deb\n",
    "sudo dpkg -i cuda-repo-ubuntu2004-11-3-local_11.3.1-465.19.01-1_amd64.deb\n",
    "sudo apt-key add /var/cuda-repo-ubuntu2004-11-3-local/7fa2af80.pub\n",
    "sudo apt-get update\n",
    "sudo apt-get -y install cuda\n",
    "\n",
    "No progress on solving the second error and I am wondering if it is a machine specific error, but since it does not work on google collab, which have a GPU, it am not certain.\n",
    "\n",
    "I created a word file and found a IEEE template which can be converted to latex later\n",
    "\n",
    "#### Next steps: \n",
    "* Try to solve the second error. If still stuck, try to run on the university system\n",
    "\n",
    "*** "
   ]
  },
  {
   "cell_type": "code",
   "execution_count": null,
   "id": "029dc366",
   "metadata": {},
   "outputs": [],
   "source": []
  }
 ],
 "metadata": {
  "kernelspec": {
   "display_name": "Python 3 (ipykernel)",
   "language": "python",
   "name": "python3"
  },
  "language_info": {
   "codemirror_mode": {
    "name": "ipython",
    "version": 3
   },
   "file_extension": ".py",
   "mimetype": "text/x-python",
   "name": "python",
   "nbconvert_exporter": "python",
   "pygments_lexer": "ipython3",
   "version": "3.8.10"
  }
 },
 "nbformat": 4,
 "nbformat_minor": 5
}
