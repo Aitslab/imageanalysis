{
 "cells": [
  {
   "cell_type": "markdown",
   "metadata": {},
   "source": [
    "## Extract only nuclei channel AND convert from C01 to png"
   ]
  },
  {
   "cell_type": "code",
   "execution_count": 4,
   "metadata": {},
   "outputs": [],
   "source": [
    "import tarfile\n",
    "import time \n",
    "import glob\n",
    "import os\n",
    "import subprocess\n",
    "\n",
    "os.chdir('/proj/berzelius-2021-21/users/klara/Segmentation/raw_data/')"
   ]
  },
  {
   "cell_type": "code",
   "execution_count": 5,
   "metadata": {},
   "outputs": [
    {
     "name": "stdout",
     "output_type": "stream",
     "text": [
      "MFGTMPcx7_170525010001.tar.gz\n"
     ]
    }
   ],
   "source": [
    "#Create empty .png folder here outside of the loop?\n",
    "image_list = list()\n",
    "#skapa lista av alla namn i working directory\n",
    "for i in os.listdir():\n",
    "    #printa alla namn i dir\n",
    "    print(i)\n",
    "    #om listan finns, om path leder rätt...\n",
    "    if os.path.isdir(i):\n",
    "        #...lägg till i i den tomma listan\n",
    "        image_list.append(i)\n",
    "        print(image_list)\n",
    "#the tar FILE is a file not a directory, therfore I cant set it as the working directory or make a list of the content"
   ]
  },
  {
   "cell_type": "code",
   "execution_count": 7,
   "metadata": {},
   "outputs": [],
   "source": [
    "os.mkdir('/proj/berzelius-2021-21/users/klara/Segmentation/raw_data_unzipped/')"
   ]
  },
  {
   "cell_type": "code",
   "execution_count": 21,
   "metadata": {},
   "outputs": [
    {
     "name": "stdout",
     "output_type": "stream",
     "text": [
      "\u001b[1;31mLmod has detected the following error: \u001b[0m The following module(s) are\n",
      "unknown: \"bftools\"\n",
      "\n",
      "Please check the spelling or version number. Also try \"module spider ...\"\n",
      "It is also possible your cache file is out-of-date; it may help to try:\n",
      "  $ module --ignore-cache load \"bftools\"\n",
      "\n",
      "Also make sure that all modulefiles written in TCL start with the string\n",
      "#%Module\n",
      "\n",
      "\n",
      "\n",
      "/bin/bash: bfconvert: command not found\n"
     ]
    }
   ],
   "source": [
    "!ml bftools\n",
    "#module --ignore-cache load \"bftools\"\n",
    "!bfconvert -overwrite -nogroup MFGTMPcx7_170601150001_F10f15d0.C01 MFGTMPcx7_170601150001_F10f15d0.png"
   ]
  },
  {
   "cell_type": "code",
   "execution_count": 9,
   "metadata": {},
   "outputs": [
    {
     "ename": "NameError",
     "evalue": "name 'C01_files' is not defined",
     "output_type": "error",
     "traceback": [
      "\u001b[0;31m---------------------------------------------------------------------------\u001b[0m",
      "\u001b[0;31mNameError\u001b[0m                                 Traceback (most recent call last)",
      "\u001b[0;32m<ipython-input-9-8e456f2d6343>\u001b[0m in \u001b[0;36m<module>\u001b[0;34m\u001b[0m\n\u001b[1;32m      1\u001b[0m \u001b[0;31m# CREATE LIST OF NAMES FOR png-FILES\u001b[0m\u001b[0;34m\u001b[0m\u001b[0;34m\u001b[0m\u001b[0;34m\u001b[0m\u001b[0m\n\u001b[1;32m      2\u001b[0m \u001b[0;31m#ge bilder namnet .png istället för .C01\u001b[0m\u001b[0;34m\u001b[0m\u001b[0;34m\u001b[0m\u001b[0;34m\u001b[0m\u001b[0m\n\u001b[0;32m----> 3\u001b[0;31m \u001b[0mpng_files\u001b[0m \u001b[0;34m=\u001b[0m \u001b[0;34m[\u001b[0m\u001b[0mstr\u001b[0m\u001b[0;34m(\u001b[0m\u001b[0mi\u001b[0m\u001b[0;34m.\u001b[0m\u001b[0msplit\u001b[0m\u001b[0;34m(\u001b[0m\u001b[0;34m'.C01'\u001b[0m\u001b[0;34m)\u001b[0m\u001b[0;34m[\u001b[0m\u001b[0;36m0\u001b[0m\u001b[0;34m]\u001b[0m\u001b[0;34m)\u001b[0m \u001b[0;34m+\u001b[0m \u001b[0;34m'.png'\u001b[0m \u001b[0;32mfor\u001b[0m \u001b[0mi\u001b[0m \u001b[0;32min\u001b[0m \u001b[0mC01_files\u001b[0m\u001b[0;34m]\u001b[0m\u001b[0;34m\u001b[0m\u001b[0;34m\u001b[0m\u001b[0m\n\u001b[0m\u001b[1;32m      4\u001b[0m \u001b[0;31m#byt namn från bilder till png_bilder\u001b[0m\u001b[0;34m\u001b[0m\u001b[0;34m\u001b[0m\u001b[0;34m\u001b[0m\u001b[0m\n\u001b[1;32m      5\u001b[0m \u001b[0mpng_files\u001b[0m \u001b[0;34m=\u001b[0m \u001b[0;34m[\u001b[0m\u001b[0mi\u001b[0m\u001b[0;34m.\u001b[0m\u001b[0mreplace\u001b[0m\u001b[0;34m(\u001b[0m\u001b[0;34m'images'\u001b[0m\u001b[0;34m,\u001b[0m\u001b[0;34m'png_images'\u001b[0m\u001b[0;34m)\u001b[0m \u001b[0;32mfor\u001b[0m \u001b[0mi\u001b[0m \u001b[0;32min\u001b[0m \u001b[0mpng_files\u001b[0m\u001b[0;34m]\u001b[0m\u001b[0;34m\u001b[0m\u001b[0;34m\u001b[0m\u001b[0m\n",
      "\u001b[0;31mNameError\u001b[0m: name 'C01_files' is not defined"
     ]
    }
   ],
   "source": [
    "# CREATE LIST OF NAMES FOR png-FILES \n",
    "#ge bilder namnet .png istället för .C01\n",
    "png_files = [str(i.split('.C01')[0]) + '.png' for i in C01_files] \n",
    "#byt namn från bilder till png_bilder\n",
    "png_files = [i.replace('images','png_images') for i in png_files]\n",
    "print(png_files[0:10])\n",
    "print('\\n')"
   ]
  },
  {
   "cell_type": "code",
   "execution_count": 23,
   "metadata": {},
   "outputs": [
    {
     "name": "stdout",
     "output_type": "stream",
     "text": [
      "Requirement already satisfied: bftools in /proj/berzelius-2021-21/users/Salma-files/envs/UNET_TF_1/lib/python3.6/site-packages (0.4.0)\r\n"
     ]
    }
   ],
   "source": [
    "!pip install bftools\n",
    "import bftools"
   ]
  },
  {
   "cell_type": "code",
   "execution_count": 29,
   "metadata": {},
   "outputs": [
    {
     "name": "stdout",
     "output_type": "stream",
     "text": [
      "/bin/bash: bfconvert: command not found\r\n"
     ]
    }
   ],
   "source": [
    "!bfconvert"
   ]
  },
  {
   "cell_type": "markdown",
   "metadata": {},
   "source": [
    "### The code I copied to 20230223_extractionConversion_KE.py:"
   ]
  },
  {
   "cell_type": "code",
   "execution_count": 50,
   "metadata": {},
   "outputs": [
    {
     "name": "stdout",
     "output_type": "stream",
     "text": [
      "MFGTMPcx7_170525010001/MFGTMPcx7_170525010001_C01f07d0.C01\n",
      "extraction time:  1.9044585227966309\n",
      "MFGTMPcx7_170525010001/MFGTMPcx7_170525010001_C01f07d0.png\n",
      "conversion time:  1.8567650318145752\n",
      "MFGTMPcx7_170525010001/MFGTMPcx7_170525010001_C01f00d0.C01\n",
      "extraction time:  0.6444909572601318\n",
      "MFGTMPcx7_170525010001/MFGTMPcx7_170525010001_C01f00d0.png\n",
      "conversion time:  1.1597607135772705\n",
      "MFGTMPcx7_170525010001/MFGTMPcx7_170525010001_C01f02d0.C01\n",
      "extraction time:  1.2183582782745361\n",
      "MFGTMPcx7_170525010001/MFGTMPcx7_170525010001_C01f02d0.png\n",
      "conversion time:  1.1589066982269287\n",
      "MFGTMPcx7_170525010001/MFGTMPcx7_170525010001_C01f13d0.C01\n",
      "extraction time:  0.09221100807189941\n",
      "MFGTMPcx7_170525010001/MFGTMPcx7_170525010001_C01f13d0.png\n",
      "conversion time:  1.1983561515808105\n",
      "MFGTMPcx7_170525010001/MFGTMPcx7_170525010001_C01f05d0.C01\n",
      "extraction time:  1.486358880996704\n",
      "MFGTMPcx7_170525010001/MFGTMPcx7_170525010001_C01f05d0.png\n",
      "conversion time:  1.159156322479248\n",
      "MFGTMPcx7_170525010001/MFGTMPcx7_170525010001_C01f06d0.C01\n",
      "extraction time:  4.1524574756622314\n",
      "MFGTMPcx7_170525010001/MFGTMPcx7_170525010001_C01f06d0.png\n",
      "conversion time:  1.179609775543213\n",
      "MFGTMPcx7_170525010001/MFGTMPcx7_170525010001_C01f15d0.C01\n",
      "extraction time:  2.634099006652832\n",
      "MFGTMPcx7_170525010001/MFGTMPcx7_170525010001_C01f15d0.png\n",
      "conversion time:  1.155379056930542\n",
      "MFGTMPcx7_170525010001/MFGTMPcx7_170525010001_C01f10d0.C01\n",
      "extraction time:  0.026729345321655273\n",
      "MFGTMPcx7_170525010001/MFGTMPcx7_170525010001_C01f10d0.png\n",
      "conversion time:  1.1327159404754639\n",
      "MFGTMPcx7_170525010001/MFGTMPcx7_170525010001_C01f03d0.C01\n",
      "extraction time:  1.291475534439087\n",
      "MFGTMPcx7_170525010001/MFGTMPcx7_170525010001_C01f03d0.png\n",
      "conversion time:  1.1376700401306152\n",
      "MFGTMPcx7_170525010001/MFGTMPcx7_170525010001_C01f08d0.C01\n",
      "extraction time:  1.803027868270874\n",
      "MFGTMPcx7_170525010001/MFGTMPcx7_170525010001_C01f08d0.png\n",
      "conversion time:  1.137665033340454\n",
      "MFGTMPcx7_170525010001/MFGTMPcx7_170525010001_C01f04d0.C01\n",
      "extraction time:  2.3928329944610596\n",
      "MFGTMPcx7_170525010001/MFGTMPcx7_170525010001_C01f04d0.png\n",
      "conversion time:  1.1441781520843506\n",
      "MFGTMPcx7_170525010001/MFGTMPcx7_170525010001_C01f14d0.C01\n",
      "extraction time:  1.720519781112671\n",
      "MFGTMPcx7_170525010001/MFGTMPcx7_170525010001_C01f14d0.png\n",
      "conversion time:  1.108306884765625\n",
      "MFGTMPcx7_170525010001/MFGTMPcx7_170525010001_C01f12d0.C01\n",
      "extraction time:  5.172253131866455\n",
      "MFGTMPcx7_170525010001/MFGTMPcx7_170525010001_C01f12d0.png\n",
      "conversion time:  1.268164873123169\n",
      "MFGTMPcx7_170525010001/MFGTMPcx7_170525010001_C01f11d0.C01\n",
      "extraction time:  4.623258352279663\n",
      "MFGTMPcx7_170525010001/MFGTMPcx7_170525010001_C01f11d0.png\n",
      "conversion time:  1.1517665386199951\n",
      "MFGTMPcx7_170525010001/MFGTMPcx7_170525010001_C01f09d0.C01\n",
      "extraction time:  0.7179455757141113\n",
      "MFGTMPcx7_170525010001/MFGTMPcx7_170525010001_C01f09d0.png\n",
      "conversion time:  1.144582986831665\n",
      "MFGTMPcx7_170525010001/MFGTMPcx7_170525010001_C01f01d0.C01\n",
      "extraction time:  0.7336454391479492\n",
      "MFGTMPcx7_170525010001/MFGTMPcx7_170525010001_C01f01d0.png\n",
      "conversion time:  1.1424007415771484\n"
     ]
    }
   ],
   "source": [
    "# The script that works!\n",
    "#iterate over file\n",
    "import tarfile\n",
    "import time \n",
    "import glob\n",
    "import os\n",
    "import bftools\n",
    "import subprocess\n",
    "os.chdir('/proj/berzelius-2021-21/users/klara/Segmentation/raw_data/')\n",
    "#os.makedirs('MFGTMPcx7_170525010001',exist_ok=False)\n",
    "with tarfile.open(\"/proj/berzelius-2021-21/users/klara/Segmentation/raw_data/MFGTMPcx7_170525010001.tar.gz\") as file:\n",
    "    my_method = file.getnames()\n",
    "    for each in my_method:\n",
    "        #specify suffix of files to be extracted\n",
    "        if each.endswith('d0.C01'):\n",
    "            start_1 = time.time()\n",
    "            file.extract(each)\n",
    "            \n",
    "            print(each)\n",
    "            #end timer test indentation?\n",
    "            end_1 = time.time()\n",
    "            print ('extraction time: ', end_1 - start_1)\n",
    "            png_d0 = each.replace('.C01','.png')\n",
    "            print(png_d0)\n",
    "            #what is i j\n",
    "            start_2 = time.time() \n",
    "            subprocess.run(['/proj/berzelius-2021-21/users/Salma-files/envs/bftools/bftools/bfconvert', '-overwrite', '-nogroup', each, png_d0])\n",
    "            #subprocess.run(['convert', png_d0, '-auto-level', '-depth', '8', '-define', 'quantum:format=unsigned', '-type', 'grayscale', png_d0])# commented away in .py and later done as post processing to be able to run as submitted job\n",
    "        #end timer 2\n",
    "            end_2 = time.time()\n",
    "            print ('conversion time: ', end_2 - start_2)    \n",
    "       \n",
    "        #end timer\n",
    "    #end_1 = time.time()\n",
    "#print ('time: ', end_1 - start_1)"
   ]
  },
  {
   "cell_type": "code",
   "execution_count": 46,
   "metadata": {},
   "outputs": [
    {
     "name": "stdout",
     "output_type": "stream",
     "text": [
      "MFGTMPcx7_170525010001\tMFGTMPcx7_170525010001.tar.gz  MFGTMPcx7_170601150001\r\n"
     ]
    }
   ],
   "source": [
    "!"
   ]
  },
  {
   "cell_type": "code",
   "execution_count": 15,
   "metadata": {},
   "outputs": [
    {
     "name": "stdout",
     "output_type": "stream",
     "text": [
      "MFGTMPcx7_170525010001\n",
      "MFGTMPcx7_170525010001/MFGTMPcx7_170525010001_D01f05d0.C01\n"
     ]
    },
    {
     "ename": "FileNotFoundError",
     "evalue": "[Errno 2] No such file or directory: 'module': 'module'",
     "output_type": "error",
     "traceback": [
      "\u001b[0;31m---------------------------------------------------------------------------\u001b[0m",
      "\u001b[0;31mFileNotFoundError\u001b[0m                         Traceback (most recent call last)",
      "\u001b[0;32m<ipython-input-15-a2a6f15f860a>\u001b[0m in \u001b[0;36m<module>\u001b[0;34m\u001b[0m\n\u001b[1;32m     15\u001b[0m          \u001b[0;31m#what is i j\u001b[0m\u001b[0;34m\u001b[0m\u001b[0;34m\u001b[0m\u001b[0;34m\u001b[0m\u001b[0m\n\u001b[1;32m     16\u001b[0m             \u001b[0msubprocess\u001b[0m\u001b[0;34m.\u001b[0m\u001b[0mrun\u001b[0m\u001b[0;34m(\u001b[0m\u001b[0;34m[\u001b[0m\u001b[0;34m'ls'\u001b[0m\u001b[0;34m]\u001b[0m\u001b[0;34m)\u001b[0m\u001b[0;34m\u001b[0m\u001b[0;34m\u001b[0m\u001b[0m\n\u001b[0;32m---> 17\u001b[0;31m             \u001b[0msubprocess\u001b[0m\u001b[0;34m.\u001b[0m\u001b[0mrun\u001b[0m\u001b[0;34m(\u001b[0m\u001b[0;34m[\u001b[0m\u001b[0;34m'module'\u001b[0m\u001b[0;34m,\u001b[0m\u001b[0;34m'load'\u001b[0m\u001b[0;34m,\u001b[0m\u001b[0;34m'bftools'\u001b[0m\u001b[0;34m]\u001b[0m\u001b[0;34m)\u001b[0m\u001b[0;34m\u001b[0m\u001b[0;34m\u001b[0m\u001b[0m\n\u001b[0m\u001b[1;32m     18\u001b[0m             \u001b[0msubprocess\u001b[0m\u001b[0;34m.\u001b[0m\u001b[0mrun\u001b[0m\u001b[0;34m(\u001b[0m\u001b[0;34m[\u001b[0m\u001b[0;34m'bfconvert'\u001b[0m\u001b[0;34m,\u001b[0m \u001b[0;34m'-overwrite'\u001b[0m\u001b[0;34m,\u001b[0m \u001b[0;34m'-nogroup'\u001b[0m\u001b[0;34m,\u001b[0m \u001b[0meach\u001b[0m\u001b[0;34m,\u001b[0m \u001b[0mpng_d0\u001b[0m\u001b[0;34m]\u001b[0m\u001b[0;34m)\u001b[0m\u001b[0;34m\u001b[0m\u001b[0;34m\u001b[0m\u001b[0m\n\u001b[1;32m     19\u001b[0m             \u001b[0msubprocess\u001b[0m\u001b[0;34m.\u001b[0m\u001b[0mrun\u001b[0m\u001b[0;34m(\u001b[0m\u001b[0;34m[\u001b[0m\u001b[0;34m'convert'\u001b[0m\u001b[0;34m,\u001b[0m \u001b[0mj\u001b[0m\u001b[0;34m,\u001b[0m \u001b[0;34m'-auto-level'\u001b[0m\u001b[0;34m,\u001b[0m \u001b[0;34m'-depth'\u001b[0m\u001b[0;34m,\u001b[0m \u001b[0;34m'8'\u001b[0m\u001b[0;34m,\u001b[0m \u001b[0;34m'-define'\u001b[0m\u001b[0;34m,\u001b[0m \u001b[0;34m'quantum:format=unsigned'\u001b[0m\u001b[0;34m,\u001b[0m \u001b[0;34m'-type'\u001b[0m\u001b[0;34m,\u001b[0m \u001b[0;34m'grayscale'\u001b[0m\u001b[0;34m,\u001b[0m \u001b[0mj\u001b[0m\u001b[0;34m]\u001b[0m\u001b[0;34m)\u001b[0m\u001b[0;34m\u001b[0m\u001b[0;34m\u001b[0m\u001b[0m\n",
      "\u001b[0;32m/proj/berzelius-2021-21/users/Salma-files/envs/UNET_TF_1/lib/python3.6/subprocess.py\u001b[0m in \u001b[0;36mrun\u001b[0;34m(input, timeout, check, *popenargs, **kwargs)\u001b[0m\n\u001b[1;32m    421\u001b[0m         \u001b[0mkwargs\u001b[0m\u001b[0;34m[\u001b[0m\u001b[0;34m'stdin'\u001b[0m\u001b[0;34m]\u001b[0m \u001b[0;34m=\u001b[0m \u001b[0mPIPE\u001b[0m\u001b[0;34m\u001b[0m\u001b[0;34m\u001b[0m\u001b[0m\n\u001b[1;32m    422\u001b[0m \u001b[0;34m\u001b[0m\u001b[0m\n\u001b[0;32m--> 423\u001b[0;31m     \u001b[0;32mwith\u001b[0m \u001b[0mPopen\u001b[0m\u001b[0;34m(\u001b[0m\u001b[0;34m*\u001b[0m\u001b[0mpopenargs\u001b[0m\u001b[0;34m,\u001b[0m \u001b[0;34m**\u001b[0m\u001b[0mkwargs\u001b[0m\u001b[0;34m)\u001b[0m \u001b[0;32mas\u001b[0m \u001b[0mprocess\u001b[0m\u001b[0;34m:\u001b[0m\u001b[0;34m\u001b[0m\u001b[0;34m\u001b[0m\u001b[0m\n\u001b[0m\u001b[1;32m    424\u001b[0m         \u001b[0;32mtry\u001b[0m\u001b[0;34m:\u001b[0m\u001b[0;34m\u001b[0m\u001b[0;34m\u001b[0m\u001b[0m\n\u001b[1;32m    425\u001b[0m             \u001b[0mstdout\u001b[0m\u001b[0;34m,\u001b[0m \u001b[0mstderr\u001b[0m \u001b[0;34m=\u001b[0m \u001b[0mprocess\u001b[0m\u001b[0;34m.\u001b[0m\u001b[0mcommunicate\u001b[0m\u001b[0;34m(\u001b[0m\u001b[0minput\u001b[0m\u001b[0;34m,\u001b[0m \u001b[0mtimeout\u001b[0m\u001b[0;34m=\u001b[0m\u001b[0mtimeout\u001b[0m\u001b[0;34m)\u001b[0m\u001b[0;34m\u001b[0m\u001b[0;34m\u001b[0m\u001b[0m\n",
      "\u001b[0;32m/proj/berzelius-2021-21/users/Salma-files/envs/UNET_TF_1/lib/python3.6/subprocess.py\u001b[0m in \u001b[0;36m__init__\u001b[0;34m(self, args, bufsize, executable, stdin, stdout, stderr, preexec_fn, close_fds, shell, cwd, env, universal_newlines, startupinfo, creationflags, restore_signals, start_new_session, pass_fds, encoding, errors)\u001b[0m\n\u001b[1;32m    727\u001b[0m                                 \u001b[0mc2pread\u001b[0m\u001b[0;34m,\u001b[0m \u001b[0mc2pwrite\u001b[0m\u001b[0;34m,\u001b[0m\u001b[0;34m\u001b[0m\u001b[0;34m\u001b[0m\u001b[0m\n\u001b[1;32m    728\u001b[0m                                 \u001b[0merrread\u001b[0m\u001b[0;34m,\u001b[0m \u001b[0merrwrite\u001b[0m\u001b[0;34m,\u001b[0m\u001b[0;34m\u001b[0m\u001b[0;34m\u001b[0m\u001b[0m\n\u001b[0;32m--> 729\u001b[0;31m                                 restore_signals, start_new_session)\n\u001b[0m\u001b[1;32m    730\u001b[0m         \u001b[0;32mexcept\u001b[0m\u001b[0;34m:\u001b[0m\u001b[0;34m\u001b[0m\u001b[0;34m\u001b[0m\u001b[0m\n\u001b[1;32m    731\u001b[0m             \u001b[0;31m# Cleanup if the child failed starting.\u001b[0m\u001b[0;34m\u001b[0m\u001b[0;34m\u001b[0m\u001b[0;34m\u001b[0m\u001b[0m\n",
      "\u001b[0;32m/proj/berzelius-2021-21/users/Salma-files/envs/UNET_TF_1/lib/python3.6/subprocess.py\u001b[0m in \u001b[0;36m_execute_child\u001b[0;34m(self, args, executable, preexec_fn, close_fds, pass_fds, cwd, env, startupinfo, creationflags, shell, p2cread, p2cwrite, c2pread, c2pwrite, errread, errwrite, restore_signals, start_new_session)\u001b[0m\n\u001b[1;32m   1362\u001b[0m                         \u001b[0;32mif\u001b[0m \u001b[0merrno_num\u001b[0m \u001b[0;34m==\u001b[0m \u001b[0merrno\u001b[0m\u001b[0;34m.\u001b[0m\u001b[0mENOENT\u001b[0m\u001b[0;34m:\u001b[0m\u001b[0;34m\u001b[0m\u001b[0;34m\u001b[0m\u001b[0m\n\u001b[1;32m   1363\u001b[0m                             \u001b[0merr_msg\u001b[0m \u001b[0;34m+=\u001b[0m \u001b[0;34m': '\u001b[0m \u001b[0;34m+\u001b[0m \u001b[0mrepr\u001b[0m\u001b[0;34m(\u001b[0m\u001b[0merr_filename\u001b[0m\u001b[0;34m)\u001b[0m\u001b[0;34m\u001b[0m\u001b[0;34m\u001b[0m\u001b[0m\n\u001b[0;32m-> 1364\u001b[0;31m                     \u001b[0;32mraise\u001b[0m \u001b[0mchild_exception_type\u001b[0m\u001b[0;34m(\u001b[0m\u001b[0merrno_num\u001b[0m\u001b[0;34m,\u001b[0m \u001b[0merr_msg\u001b[0m\u001b[0;34m,\u001b[0m \u001b[0merr_filename\u001b[0m\u001b[0;34m)\u001b[0m\u001b[0;34m\u001b[0m\u001b[0;34m\u001b[0m\u001b[0m\n\u001b[0m\u001b[1;32m   1365\u001b[0m                 \u001b[0;32mraise\u001b[0m \u001b[0mchild_exception_type\u001b[0m\u001b[0;34m(\u001b[0m\u001b[0merr_msg\u001b[0m\u001b[0;34m)\u001b[0m\u001b[0;34m\u001b[0m\u001b[0;34m\u001b[0m\u001b[0m\n\u001b[1;32m   1366\u001b[0m \u001b[0;34m\u001b[0m\u001b[0m\n",
      "\u001b[0;31mFileNotFoundError\u001b[0m: [Errno 2] No such file or directory: 'module': 'module'"
     ]
    }
   ],
   "source": [
    "\n",
    "import subprocess\n",
    "with tarfile.open(\"/proj/berzelius-2021-21/users/klara/Segmentation/MFGTMPcx7_170525010001.tar.gz\", \"r\") as file:\n",
    "\n",
    "    #iterate over file\n",
    "    my_method = file.getnames()\n",
    "    for each in my_method:\n",
    "        print(each)\n",
    "        #start timer\n",
    "        start = time.time()\n",
    "        #specify suffix of files to be extracted\n",
    "        if each.endswith('d0.C01'):\n",
    "            \n",
    "            png_d0 = each.replace('C01','png')\n",
    "         #what is i j \n",
    "            subprocess.run(['ls'])\n",
    "            subprocess.run(['module','load','bftools'])\n",
    "            subprocess.run(['bfconvert', '-overwrite', '-nogroup', each, png_d0])\n",
    "            subprocess.run(['convert', j, '-auto-level', '-depth', '8', '-define', 'quantum:format=unsigned', '-type', 'grayscale', j])\n",
    "            #add to the new folder: png_images\n",
    "       \n",
    "        #end timer\n",
    "    end = time.time()\n",
    "print (end - start)"
   ]
  },
  {
   "cell_type": "code",
   "execution_count": 56,
   "metadata": {},
   "outputs": [
    {
     "data": {
      "text/plain": [
       "0"
      ]
     },
     "execution_count": 56,
     "metadata": {},
     "output_type": "execute_result"
    }
   ],
   "source": [
    "subprocess.call('ls')"
   ]
  }
 ],
 "metadata": {
  "kernelspec": {
   "display_name": "Python 3",
   "language": "python",
   "name": "python3"
  },
  "language_info": {
   "codemirror_mode": {
    "name": "ipython",
    "version": 3
   },
   "file_extension": ".py",
   "mimetype": "text/x-python",
   "name": "python",
   "nbconvert_exporter": "python",
   "pygments_lexer": "ipython3",
   "version": "3.6.13"
  }
 },
 "nbformat": 4,
 "nbformat_minor": 2
}
