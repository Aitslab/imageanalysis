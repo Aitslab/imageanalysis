{
 "cells": [
  {
   "cell_type": "markdown",
   "id": "6ad742b4",
   "metadata": {},
   "source": [
    "# Logbook Master Project \n",
    "## 1 Nov \n",
    "---\n",
    "### Project\n",
    "Cell Image Segmentation\n",
    "### Aim\n",
    "The aim of today was to learn how to read, show and save images in google colab and how to use github and create a logbook. \n",
    "\n",
    "### Description\n",
    "Did a tutorial for using cv2 and created a logbook on github. Ran into some issues with updating the local repository as my branch was called \"master\" branch in the terminal but \"main\" in github. Accidentally created two branches and had to deleate one and make sure that the logbook was in the right one. \n",
    "\n",
    "### Results/Conclusions \n",
    "I have a logbook on github. \n",
    "\n",
    "### Next Steps\n",
    "Learn more about pandas, matplotlib and seaborn.\n"
   ]
  },
  {
   "cell_type": "markdown",
   "id": "4ced56b0",
   "metadata": {},
   "source": [
    "## 2 Nov \n",
    "---\n",
    "### Project\n",
    "Cell Image Segmentation\n",
    "### Aim\n",
    "Start with the first task (Task 1).\n",
    "### Description\n",
    "Finished the first part of my first segmentation task: plotted (showed) an image using cv2 and numpy, printed siza and number of channels using the .shape attribute, plotted the pixel distribution of the image using matplotlib.pyplot (plt), and plt.hist(.ravel()). \n",
    "### Results/Conclusions\n",
    "A visualization of the pixel distribution and more knowledge of the matplotlib library. \n",
    "### Next Steps\n",
    "I will continue with the second part of task 1, reading a .tsv file, extracting x and y columns and so on. "
   ]
  },
  {
   "cell_type": "markdown",
   "id": "da02c1da",
   "metadata": {},
   "source": [
    "## 3 Nov\n",
    "---\n",
    "### Project\n",
    "Cell Image Segmentation.\n",
    "### Aim\n",
    "Continue with Task 1.\n",
    "### Description\n",
    "Used pandas library for reading .tsv file and extracting columns of interest.\n",
    "### Results/Conclusions\n",
    "Pandas is an easy tool to work with columns.\n",
    "### Next Steps\n",
    "Continue and maybe finish Task 1. Learn to plot graphs. "
   ]
  },
  {
   "cell_type": "markdown",
   "id": "29e37b2c",
   "metadata": {},
   "source": [
    "## 4 Nov\n",
    "---\n",
    "### Project\n",
    "Cell Image Segmentation.\n",
    "### Aim\n",
    "Finish with Task 1.\n",
    "### Description \n",
    "Created one white background image and one black and drew circels around specific points.\n",
    "### Result/Conclusion\n",
    "The images were made using using np.ones and np.zeros. With the help of Rafsan and Salma I managed to extract coordinates from a cloumn and draw circles centered around those on the black and white image and on the image of cells. \n",
    "### Next Steps\n",
    "Work with bash scripts and clusters. "
   ]
  },
  {
   "cell_type": "markdown",
   "id": "71c6344b",
   "metadata": {},
   "source": [
    "## 7 Nov\n",
    "---\n",
    "### Project\n",
    "Cell Image Segmentation.\n",
    "### Aim\n",
    "Task 2: Bash script.\n",
    "### Description\n",
    "Practiced navigating files using bash and working in clusters.\n",
    "### Result/Conclusion\n",
    "Learned useful commands like cd, ls, cat and more.\n",
    "### Next Steps\n",
    "Continue with the task, more specifically: divide files into different directories based on filename."
   ]
  },
  {
   "cell_type": "markdown",
   "id": "110dd9f6",
   "metadata": {},
   "source": [
    "## 8 Nov\n",
    "---\n",
    "### Project\n",
    "Cell Image Segmentation\n",
    "### Aim\n",
    "Continue with bash script and have meeting.\n",
    "### Description\n",
    "Practiced organising files in the cluster using bash. \n",
    "### Result/Conclusion\n",
    "Learned commands mkdir, *, wc and cut.\n",
    "### Next Steps\n",
    "Get access to the wiki and imageanalysis on git. Start a thesis document on git and add a project outline and my work from my previous course to it. Finish task 2. "
   ]
  },
  {
   "cell_type": "markdown",
   "id": "b952cc32",
   "metadata": {},
   "source": [
    "## 9 Nov\n",
    "---\n",
    "### Project\n",
    "Cell Image Segmentation\n",
    "### Aim\n",
    "Access wiki page and make directory in imageanalysis in git. Finish task 2. \n",
    "### Description\n",
    "Had problems accessing the wiki page, when I open it it is empty and it seems like I dont have access. Started a thesis document. Read articels about Hover-Net and U-net.\n",
    "### Result/Conclusion\n",
    "I have a document for my thesis and have started to review the literatur and summarize articels I have read. Emailed the lu servicedesk about the OneNote problems. Made a file in github instead of a folder.\n",
    "### Next Steps\n",
    "Copy textfile from lunarc to my folder in berzelius:/proj/berzelius-2021-21/users/x_klaes/. Make a folder on github and insert logbook and thesis doc there. "
   ]
  },
  {
   "cell_type": "markdown",
   "id": "57743a42",
   "metadata": {},
   "source": [
    "## 10 Nov\n",
    "---\n",
    "### Project\n",
    "Cell Image Segmentation\n",
    "### Aim\n",
    "Finish task 2. Learn more about how to use github.   \n",
    "### Description\n",
    "Practiced logging in to one server from another server to copy files between servers. Watched github tutorials and an NLP lecture. Created a folder in github and uploaded my thesis document there. Read Lab rules. \n",
    "### Result/Conclusion\n",
    "Used the ssh command to login to lunarc from berzelius. Learned how to make folders and upload files to github. Finished task 2. \n",
    "### Next Steps\n",
    "Start task 3, learn about conda environments. "
   ]
  },
  {
   "cell_type": "markdown",
   "id": "b10b73f9",
   "metadata": {},
   "source": [
    "## 11 Nov\n",
    "---\n",
    "### Project\n",
    "Cell Image Segmentation\n",
    "### Aim\n",
    "  \n",
    "### Description\n",
    "Read about micronuclei. Watched tutorials on how to set up a conda environment.  \n",
    "### Result/Conclusion\n",
    "Prepared to start task 3 (conda) next week.  \n",
    "### Next Steps\n",
    "Start task 3, learn about conda environments. "
   ]
  },
  {
   "cell_type": "code",
   "execution_count": null,
   "id": "6f8b637f",
   "metadata": {},
   "outputs": [],
   "source": []
  }
 ],
 "metadata": {
  "kernelspec": {
   "display_name": "Python 3 (ipykernel)",
   "language": "python",
   "name": "python3"
  },
  "language_info": {
   "codemirror_mode": {
    "name": "ipython",
    "version": 3
   },
   "file_extension": ".py",
   "mimetype": "text/x-python",
   "name": "python",
   "nbconvert_exporter": "python",
   "pygments_lexer": "ipython3",
   "version": "3.9.12"
  }
 },
 "nbformat": 4,
 "nbformat_minor": 5
}
