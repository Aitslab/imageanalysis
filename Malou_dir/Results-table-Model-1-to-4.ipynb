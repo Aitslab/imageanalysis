{
 "cells": [
  {
   "cell_type": "markdown",
   "metadata": {},
   "source": [
    "# Table with result values from 4 different models.\n",
    "\n",
    "### Description of the models\n",
    "\n",
    "- Model 1: Trained with 40 images from Aits lab, 30 for training, 10 for validation.\n",
    "- Model 2: Trained with the same images as Model 1, but with elastic transformation done 9 times on each of the 30 training images, so that the total amount of training images is 300.\n",
    "- Model 3: The same as Model 2, but with 100 images from BBBC\n",
    "- Model 4: The same as Model 2, but with 200 images from BBBC\n",
    "\n",
    "\n",
    "| Model | F1 50% | F1 95%| Avg F1 score | Jaccard Index|\n",
    "| --- | --- | --- | --- | --- |\n",
    "| Model 1 | 0.8282 | 0.1470 | 0.7019 | 0.7466 |\n",
    "| Model 2 | 0.8214 | 0.1302 | 0.6953 | 0.7493 |\n",
    "| Model 3 | 0.8427 | 0.0725 | 0.7080 | 0.7709 |\n",
    "| Model 4 | 0.8323 | 0.1472 | 0.6951 | 0.7472 |\n"
   ]
  }
 ],
 "metadata": {
  "kernelspec": {
   "display_name": "Python 3",
   "language": "python",
   "name": "python3"
  },
  "language_info": {
   "codemirror_mode": {
    "name": "ipython",
    "version": 3
   },
   "file_extension": ".py",
   "mimetype": "text/x-python",
   "name": "python",
   "nbconvert_exporter": "python",
   "pygments_lexer": "ipython3",
   "version": "3.6.9"
  }
 },
 "nbformat": 4,
 "nbformat_minor": 4
}
