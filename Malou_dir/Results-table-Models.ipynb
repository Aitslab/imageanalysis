{
 "cells": [
  {
   "cell_type": "markdown",
   "metadata": {},
   "source": [
    "# Table with result values from different models.\n",
    "\n",
    "### Description of the models\n",
    "\n",
    "- Model F3: Filips Model 3\n",
    "- Model 1: Trained with 40 images from Aits lab, 30 for training, 10 for validation.\n",
    "- Model 1.1: Model 1, evaluated on images from other labs.\n",
    "- Model 2: Trained with the same images as Model 1, and with elastic transformation done 9 times on each of the 30 \n",
    "training images, so that the total amount of training images is 300.\n",
    "- Model 2.2: Model 2 evaluated with affine transformation done on the validation set.\n",
    "- Model 3: The same as Model 2, with 100 additional images from BBBC\n",
    "- Model 4: The same as Model 2, with 200 additional images from BBBC\n",
    "- Model 4.4: Model 4, evaluated on images from other labs.\n",
    "- Model 5: The same as Model 4 with additional 500 randomly selected images from the image collections BBBC038, BBBC020, \"GFP-GOWT1 mouse stem cells\", \"HeLa cells stably expressing H2b-GFP\" and \"Simulated nuclei of HL60 cells stained with Hoescht\"\n",
    "- Model 5.5: Model 5, evaluated on images from other labs.\n",
    "- Model 6: Training with 2 images from Aitslab\n",
    "- Model 7: Training with 5 images from Aitslab\n",
    "- Model 8: Training with 15 images from Aitslab\n",
    "- Model 9: Model 1 trained for additional 15 epochs\n",
    "- Model 10: Model 1 and 29 additional images from the BBBC038, handpicked based on similarity to aits images.\n",
    "- Model 11: Training with the 29 additional images used in Model 10.\n",
    "- Model 12: Same as Model 10, with the 29 additional images resized to the same size as aitsimages (1104x1104).\n",
    "- Model 13: Aits images with affine transformation + 333 images from BBBC038\n",
    "- Model 14: Model 3 trained for 15 additional epochs\n",
    "- Model 15: Model 5 trained for 15 additional epochs\n",
    "- Model 16: Model 10 trained for 15 additional epochs\n",
    "- Model 17: Model 1, with the weight parameter of the boundary label changed from 10 to 5. No dilation in the evaluation step\n",
    "- Model 18: Model 1, with modification to the weight parameter of the boundary label. backround, interior and boundary now has the same value instead of 1/1/10. No dilation done in the evaluation step now.\n",
    "\n",
    "\n",
    "\n",
    "| Model | F1 50% | 55% | 60% | 65% | 70% | 75% | 80% | 85% | 90% | 95%| Avg F1 score | Jaccard Index|\n",
    "| --- | --- | | | | | | | | |--- | --- | --- |\n",
    "| Model F3 | 0.6397 | 0.5582 | 0.4203 | 0.2697 | 0.1336 | 0.0251 | 0.0081 | 0.0000 | 0.0000 | 0.0000 | 0.2055 | 0.4958 |\n",
    "| Model 1 | 0.8943 | 0.8770 | 0.8770 | 0.8704 | 0.8548 | 0.8373 | 0.8128 | 0.7602 | 0.6575 | 0.1583 | 0.7600 | 0.8322 |\n",
    "| Model 2 | 0.8947 | 0.8900 | 0.8657 | 0.8582 | 0.8465 | 0.8339 | 0.8080 | 0.7504 | 0.6233 | 0.1404 | 0.7511 | 0.8289 |\n",
    "| Model 2.2 | 0.8884 | 0.8772 | 0.8645 | 0.8560 | 0.8428 | 0.8226 | 0.7958 | 0.7454 | 0.5710 | 0.0679 | 0.7332 | 0.8110 |\n",
    "| Model 3 | 0.9073 | 0.8983 | 0.8957 | 0.8898 | 0.8707 | 0.8562 | 0.8220 | 0.7865 | 0.6230 | 0.0788 | 0.7628 | 0.8612 |\n",
    "| Model 4 | 0.8451 | 0.8355 | 0.8246 | 0.8219 | 0.8145 | 0.8001 | 0.7637 | 0.7217 | 0.6129 | 0.1534 | 0.7193 | 0.7252 | \n",
    "| Model 5 | 0.8333 | 0.8201 | 0.8115 | 0.7945 | 0.7807 | 0.7622 | 0.7238 | 0.6885 | 0.5739| 0.1496 | 0.6938 | 0.7204 |\n",
    "| Model 6 | 0.8747 | 0.8516 | 0.8491 | 0.8245 | 0.7879 | 0.7791 | 0.7401 | 0.6691 | 0.4237| 0.0331 | 0.6833 | 0.7876 |\n",
    "| Model 7 | 0.8991 | 0.8881 | 0.8812 | 0.8734| 0.8523 | 0.8200 | 0.8002 | 0.7429 | 0.5885 |0.0765 | 0.7422 | 0.8437 |\n",
    "| Model 8 | 0.9026 | 0.8857 | 0.8527 | 0.8327 | 0.8231 | 0.8064 | 0.7740 | 0.7272 | 0.6167 |0.1384 | 0.7359 | 0.8354 |\n",
    "| Model 9 | 0.9083 | 0.8968 | 0.8896 | 0.8811 | 0.8630 | 0.8492 | 0.8358 | 0.7732 | 0.6481 |0.1301 | 0.7675 | 0.8419 |\n",
    "| Model 10 | 0.9059 | 0.8988 | 0.8897 | 0.8847 | 0.8617 | 0.8461 | 0.8372 | 0.7921 | 0.6514 |0.1476 | 0.7715 | 0.8480 |\n",
    "| Model 11 | 0.6869 | 0.6714 | 0.6511 | 0.6246 | 0.5918 | 0.5466 | 0.4634 | 0.2868 | 0.0455 |0.0000 | 0.4568 | 0.5340 |\n",
    "| Model 12 | 0.9268 | 0.9110 | 0.8932 | 0.8815 | 0.8614 | 0.8405 | 0.8280 | 0.7761 | 0.6493 | 0.1258 | 0.7694 | 0.8657 |\n",
    "| Model 13 | 0.8940 | 0.8850 | 0.8786 | 0.8692 | 0.8612 | 0.8425 | 0.8158 | 0.7717 | 0.6722 | 0.1480 | 0.7638 | 0.8442 |\n",
    "| Model 14 | 0.9186 | 0.9056 | 0.8897 | 0.8814 | 0.8667 | 0.8498 | 0.8090 | 0.7779 | 0.6358 | 0.1644 | 0.7699 | 0.8512 |\n",
    "| Model 15 | 0.7812 | 0.7623 | 0.7458 | 0.7250 | 0.7038 | 0.6727 | 0.6566 | 0.6044 | 0.4795 | 0.1202 | 0.6252 | 0.6786 |\n",
    "| Model 16 | 0.9064 | 0.8910 | 0.8762 | 0.8626 | 0.8462 | 0.8262 | 0.7983 | 0.7619 | 0.6469 | 0.1853 | 0.7601 | 0.8347 |\n",
    "| Model 17 | 0.9052 | 0.8880| 0.8745 | 0.8700 | 0.8501 | 0.8261 | 0.7886 | 0.7497 | 0.5468 | 0.0901 | 0.7389 | 0.8155 |\n",
    "| Model 18 | 0.8418 | 0.8110| 0.7926 | 0.7710 | 0.7580 | 0.7221 | 0.6631 | 0.5304 | 0.1734 | 0.0035 | 0.6067 | 0.7352 |"
   ]
  },
  {
   "cell_type": "code",
   "execution_count": null,
   "metadata": {},
   "outputs": [],
   "source": []
  }
 ],
 "metadata": {
  "kernelspec": {
   "display_name": "Python 3",
   "language": "python",
   "name": "python3"
  },
  "language_info": {
   "codemirror_mode": {
    "name": "ipython",
    "version": 3
   },
   "file_extension": ".py",
   "mimetype": "text/x-python",
   "name": "python",
   "nbconvert_exporter": "python",
   "pygments_lexer": "ipython3",
   "version": "3.6.9"
  }
 },
 "nbformat": 4,
 "nbformat_minor": 4
}
