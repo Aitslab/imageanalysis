{
 "cells": [
  {
   "cell_type": "markdown",
   "metadata": {},
   "source": [
    "# Table with result values from different models.\n",
    "\n",
    "### Description of the models\n",
    "\n",
    "- Model 1: Trained with 40 images from Aits lab, 30 for training, 10 for validation.\n",
    "- Model 1.1: Model 1, evaluated on images from other labs.\n",
    "- Model 2: Trained with the same images as Model 1, and with elastic transformation done 9 times on each of the 30 \n",
    "training images, so that the total amount of training images is 300.\n",
    "- Model 2.2: Model 2 evaluated with affine transformation done on the validation set.\n",
    "- Model 3: The same as Model 2, with 100 additional images from BBBC\n",
    "- Model 4: The same as Model 2, with 200 additional images from BBBC\n",
    "- Model 4.4: Model 4, evaluated on images from other labs.\n",
    "- Model 5: The same as Model 4 with additional 500 randomly selected images from the image collections BBBC038, BBBC020, \"GFP-GOWT1 mouse stem cells\", \"HeLa cells stably expressing H2b-GFP\" and \"Simulated nuclei of HL60 cells stained with Hoescht\"\n",
    "- Model 5.5: Model 5, evaluated on images from other labs.\n",
    "- Model 6: Training with 2 images from Aitslab\n",
    "- Model 7: Training with 5 images from Aitslab\n",
    "- Model 8: Training with 15 images from Aitslab\n",
    "- Model 9: Model 1 trained for additional 15 epochs\n",
    "- Model 10: Model 1 and 29 additional images from the BBBC038, handpicked based on similarity to aits images.\n",
    "- Model 11: Training with the 29 additional images used in Model 10.\n",
    "- Model 12: Same as Model 10, with the 29 additional images resized to the same size as aitsimages (1104x1104).\n",
    "\n",
    "| Model | F1 50% | 55% | 60% | 65% | 70% | 75% | 80% | 85% | 90% | 95%| Avg F1 score | Jaccard Index|\n",
    "| --- | --- | | | | | | | | |--- | --- | --- |\n",
    "| Model 1 | 0.8943 | 0.8770 | 0.8770 | 0.8704 | 0.8548 | 0.8373 | 0.8128 | 0.7602 | 0.6575 | 0.1583 | 0.7600 | 0.8322 |\n",
    "| Model 2 | 0.8947 | 0.8900 | 0.8657 | 0.8582 | 0.8465 | 0.8339 | 0.8080 | 0.7504 | 0.6233 | 0.1404 | 0.7511 | 0.8289 |\n",
    "| Model 2.2 | 0.8884 | 0.8772 | 0.8645 | 0.8560 | 0.8428 | 0.8226 | 0.7958 | 0.7454 | 0.5710 | 0.0679 | 0.7332 | 0.8110 |\n",
    "| Model 3 | 0.9073 | 0.8983 | 0.8957 | 0.8898 | 0.8707 | 0.8562 | 0.8220 | 0.7865 | 0.6230 | 0.0788 | 0.7628 | 0.8612 |\n",
    "| Model 4 | 0.8451 | 0.8355 | 0.8246 | 0.8219 | 0.8145 | 0.8001 | 0.7637 | 0.7217 | 0.6129 | 0.1534 | 0.7193 | 0.7252 | \n",
    "| Model 5 | 0.8333 | 0.8201 | 0.8115 | 0.7945 | 0.7807 | 0.7622 | 0.7238 | 0.6885 | 0.5739| 0.1496 | 0.6938 | 0.7204 |\n",
    "| Model 6 | 0.8747 | 0.8516 | 0.8491 | 0.8245 | 0.7879 | 0.7791 | 0.7401 | 0.6691 | 0.4237| 0.0331 | 0.6833 | 0.7876 |\n",
    "| Model 7 | 0.8991 | 0.8881 | 0.8812 | 0.8734| 0.8523 | 0.8200 | 0.8002 | 0.7429 | 0.5885 |0.0765 | 0.7422 | 0.8437 |\n",
    "| Model 8 | 0.9026 | 0.8857 | 0.8527 | 0.8327 | 0.8231 | 0.8064 | 0.7740 | 0.7272 | 0.6167 |0.1384 | 0.7359 | 0.8354 |\n",
    "| Model 9 | 0.9083 | 0.8968 | 0.8896 | 0.8811 | 0.8630 | 0.8492 | 0.8358 | 0.7732 | 0.6481 |0.1301 | 0.7675 | 0.8419 |\n",
    "| Model 10 | 0.9059 | 0.8988 | 0.8897 | 0.8847 | 0.8617 | 0.8461 | 0.8372 | 0.7921 | 0.6514 |0.1476 | 0.7715 | 0.8480 |\n",
    "| Model 11 | 0.6869 | 0.6714 | 0.6511 | 0.6246 | 0.5918 | 0.5466 | 0.4634 | 0.2868 | 0.0455 |0.0000 | 0.4568 | 0.5340 |\n",
    "| Model 12 | 0.9268 | 0.9110 | 0.8932 | 0.8815 | 0.8614 | 0.8405 | 0.8280 | 0.7761 | 0.6493 | 0.1258 | 0.7694 | 0.8657 |\n",
    "\n",
    "\n"
   ]
  },
  {
   "cell_type": "code",
   "execution_count": null,
   "metadata": {},
   "outputs": [],
   "source": []
  }
 ],
 "metadata": {
  "kernelspec": {
   "display_name": "Python 3",
   "language": "python",
   "name": "python3"
  },
  "language_info": {
   "codemirror_mode": {
    "name": "ipython",
    "version": 3
   },
   "file_extension": ".py",
   "mimetype": "text/x-python",
   "name": "python",
   "nbconvert_exporter": "python",
   "pygments_lexer": "ipython3",
   "version": "3.6.9"
  }
 },
 "nbformat": 4,
 "nbformat_minor": 4
}
