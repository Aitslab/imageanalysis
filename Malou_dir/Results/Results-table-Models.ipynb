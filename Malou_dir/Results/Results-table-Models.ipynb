{
 "cells": [
  {
   "cell_type": "markdown",
   "metadata": {},
   "source": [
    "# Table with result values from different models.\n",
    "\n",
    "### Description of the models\n",
    "\n",
    "- Model F3: Filips Model 3\n",
    "- Model 1: Trained with 40 images from Aits lab, 30 for training, 10 for validation.\n",
    "- Model 1.1: Model 1, evaluated on images from other labs.\n",
    "- Model 2: Trained with the same images as Model 1, and with elastic transformation done 9 times on each of the 30 \n",
    "training images, so that the total amount of training images is 300.\n",
    "- Model 2.2: Model 2 evaluated with affine transformation done on the validation set.\n",
    "- Model 3: The same as Model 2, with 100 additional images from BBBC\n",
    "- Model 4: The same as Model 2, with 200 additional images from BBBC\n",
    "- Model 4.4: Model 4, evaluated on images from other labs.\n",
    "- Model 5: The same as Model 4 with additional 500 randomly selected images from the image collections BBBC038, BBBC020, \"GFP-GOWT1 mouse stem cells\", \"HeLa cells stably expressing H2b-GFP\" and \"Simulated nuclei of HL60 cells stained with Hoescht\"\n",
    "- Model 5.1: Model 5, evaluated on images from other labs.\n",
    "- Model 6: Training with 2 images from Aitslab\n",
    "- Model 7: Training with 5 images from Aitslab\n",
    "- Model 8: Training with 15 images from Aitslab\n",
    "- Model 9: Model 1 trained for additional 15 epochs\n",
    "- Model 10: Model 1 and 29 additional images from the BBBC038, handpicked based on similarity to aits images.\n",
    "- Model 11: Training with the 29 additional images used in Model 10.\n",
    "- Model 12: Same as Model 10, with the 29 additional images resized to the same size as aitsimages (1104x1104).\n",
    "- Model 13: Aits images with affine transformation + 333 images from BBBC038\n",
    "- Model 14: Model 3 trained for 15 additional epochs\n",
    "- Model 15: Model 5 trained for 15 additional epochs\n",
    "- Model 16: Model 10 trained for 15 additional epochs\n",
    "- Model 17: Model 1, with the weight parameter of the boundary label changed from 10 to 5. No dilation in the evaluation step\n",
    "- Model 18: Model 1, with modification to the weight parameter of the boundary label. backround, interior and boundary now has the same value instead of 1/1/10. No dilation done in the evaluation step now.\n",
    "- Model 19: Model 13 trained for additional 5 epochs\n",
    "\n",
    "\n",
    "| Model | F1 50% | 55% | 60% | 65% | 70% | 75% | 80% | 85% | 90% | 95%| Avg F1 score | Jaccard Index|\n",
    "| --- | --- | | | | | | | | |--- | --- | --- |\n",
    "| Model F3 | 0.6397 | 0.5582 | 0.4203 | 0.2697 | 0.1336 | 0.0251 | 0.0081 | 0.0000 | 0.0000 | 0.0000 | 0.2055 | 0.4958 |\n",
    "| Model 1 | 0.8833 | 0.8725 | 0.8725 | 0.8706 | 0.8539 | 0.8314 | 0.8016 | 0.7538 | 0.6416 | 0.2059 | 0.7587 | 0.8351 |\n",
    "| Model 1.1 | 0.8457 | 0.8380 | 0.8353 | 0.8271 | 0.8191 | 0.7643 | 0.6860 | 0.4970 | 0.2250 | 0.0028 | 0.6340 | 0.8072 |\n",
    "| Model 2 | 0.8899 | 0.8855 | 0.8729 | 0.8599 | 0.8392 | 0.8217 | 0.8010 | 0.7412 | 0.6479 | 0.1781 | 0.7537 | 0.8331 |\n",
    "| Model 2.2 | 0.8884 | 0.8772 | 0.8645 | 0.8560 | 0.8428 | 0.8226 | 0.7958 | 0.7454 | 0.5710 | 0.0679 | 0.7332 | 0.8110 |\n",
    "| Model 3 | 0.9072 | 0.9027 | 0.8965 | 0.8789 | 0.8625 | 0.8532 | 0.8350 | 0.7884 | 0.6773 | 0.1332 | 0.7735 | 0.8712 |\n",
    "| Model 4 | 0.8114 | 0.8025 | 0.7941 | 0.7941 | 0.7783 | 0.7620 | 0.7436 | 0.6886 | 0.6210 | 0.1671 | 0.6963 | 0.7379 | \n",
    "| Model 5 | 0.8256 | 0.8191 | 0.8091 | 0.7919 | 0.7832 | 0.7508 | 0.7236 | 0.6652 | 0.5340| 0.1040 | 0.6806 | 0.7196 |\n",
    "| Model 5.1 | 0.9241 | 0.9064 | 0.8882 | 0.8557 | 0.8081 | 0.7131 | 0.5362 | 0.2670 | 0.0541| 0.0022 | 0.5955 | 0.7616 |\n",
    "| Model 6 | 0.8773 | 0.8624 | 0.8541 | 0.8367 | 0.8008 | 0.7743 | 0.7460 | 0.6674 | 0.5156| 0.0762 | 0.7011 | 0.8018 |\n",
    "| Model 7 | 0.8931 | 0.8845 | 0.8799 | 0.8729| 0.8396 | 0.8255 | 0.7967 | 0.7509 | 0.6381 |0.1098 | 0.7491 | 0.8511 |\n",
    "| Model 8 | 0.8958 | 0.8795 | 0.8559 | 0.8388 | 0.8235 | 0.8018 | 0.7813 | 0.7135 | 0.6128 |0.1519 | 0.7355 | 0.8384 |\n",
    "| Model 9 | 0.9056 | 0.8990 | 0.8881 | 0.8800 | 0.8664 | 0.8447 | 0.8223 | 0.7739 | 0.6658 |0.1683 | 0.7714 | 0.8474 |\n",
    "| Model 10 | 0.8950 | 0.8924 | 0.8791 |0.8717| 0.8566 | 0.8310 | 0.8118 | 0.7680 | 0.6051 | 0.1427 | 0.7553 | 0.8454 |\n",
    "| Model 11 | 0.7076 | 0.6769 | 0.6503 | 0.6225 | 0.5971 | 0.5602 | 0.4943 | 0.3654 | 0.0838 |0.0000 | 0.4758 | 0.5502 |\n",
    "| Model 12 | 0.9173 | 0.9109 | 0.8961 | 0.8834 | 0.8691 | 0.8326 | 0.8127 | 0.7659 | 0.6440 | 0.1658 | 0.7698 | 0.8693 |\n",
    "| Model 13 | 0.8898 | 0.8788 | 0.8699 | 0.8659 | 0.8417 | 0.8289 | 0.8081 | 0.7583 | 0.6526 | 0.1335 | 0.7528 | 0.8439 |\n",
    "| Model 14 | 0.9186 | 0.9056 | 0.8897 | 0.8814 | 0.8667 | 0.8498 | 0.8090 | 0.7779 | 0.6358 | 0.1644 | 0.7699 | 0.8512 |\n",
    "| Model 15 | 0.7812 | 0.7623 | 0.7458 | 0.7250 | 0.7038 | 0.6727 | 0.6566 | 0.6044 | 0.4795 | 0.1202 | 0.6252 | 0.6786 |\n",
    "| Model 16 | 0.9064 | 0.8910 | 0.8762 | 0.8626 | 0.8462 | 0.8262 | 0.7983 | 0.7619 | 0.6469 | 0.1853 | 0.7601 | 0.8347 |\n",
    "| Model 17 | 0.9052 | 0.8880| 0.8745 | 0.8700 | 0.8501 | 0.8261 | 0.7886 | 0.7497 | 0.5468 | 0.0901 | 0.7389 | 0.8155 |\n",
    "| Model 18 | 0.8418 | 0.8110| 0.7926 | 0.7710 | 0.7580 | 0.7221 | 0.6631 | 0.5304 | 0.1734 | 0.0035 | 0.6067 | 0.7352 |\n",
    "| Model 19 | 0.8874 | 0.8722| 0.8653 | 0.8628 | 0.8460 | 0.8244 | 0.7951 | 0.7580 | 0.6256 | 0.0928 | 0.7430 | 0.8282 |"
   ]
  },
  {
   "cell_type": "code",
   "execution_count": null,
   "metadata": {},
   "outputs": [],
   "source": []
  }
 ],
 "metadata": {
  "kernelspec": {
   "display_name": "Python 3",
   "language": "python",
   "name": "python3"
  },
  "language_info": {
   "codemirror_mode": {
    "name": "ipython",
    "version": 3
   },
   "file_extension": ".py",
   "mimetype": "text/x-python",
   "name": "python",
   "nbconvert_exporter": "python",
   "pygments_lexer": "ipython3",
   "version": "3.6.9"
  }
 },
 "nbformat": 4,
 "nbformat_minor": 4
}
