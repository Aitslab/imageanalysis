{
 "cells": [
  {
   "cell_type": "markdown",
   "metadata": {},
   "source": [
    "# Lysosome model evaluations\n",
    "### Description of the models\n",
    "\n",
    "#### For the lysosome models, all objects are very small, most less than 10 pixels, so even a low threshold is valid when looking at true positives, therefore the IOU threshold is set to range from 10% to 90%. \n",
    "    \n",
    "- Model 1: Robust annotation done, lys-annotationset1, each object is marked with a squared box.\n",
    "- Model 2: Model trained with lys-annotationset2, more detailed annotation with only including the actual lysosome and no background.\n",
    "- Model 3: Same as model 2, but the input images are the merged images.\n",
    "\n",
    "    \n",
    "| Model | F1 10% | 20% | 30% | 40% | 50% | 60% | 70% | 80% | 90% | Avg F1 score | Jaccard Index|\n",
    "    | --- | --- | | | | | | | | |--- | --- |\n",
    "    |Model 1|0.8206 |0.804 |0.7515 |0.5591 |0.4001 |0.2825 |0.0447 |0.0105 |0.0 |0.4081 |0.3699 |\n",
    "    |Model 2|0.8754 |0.8676 |0.8169 |0.7292 |0.5285 |0.3762 |0.1806 |0.108 |0.0978 |0.5089 |0.4944 |\n",
    "    |Model 3|0.7942 |0.7811 |0.7109 |0.6636 |0.4511 |0.3581 |0.1083 |0.0484 |0.0259 |0.4380 |0.4283 |\n",
    "    "
   ]
  }
 ],
 "metadata": {
  "kernelspec": {
   "display_name": "Python 3",
   "language": "python",
   "name": "python3"
  },
  "language_info": {
   "codemirror_mode": {
    "name": "ipython",
    "version": 3
   },
   "file_extension": ".py",
   "mimetype": "text/x-python",
   "name": "python",
   "nbconvert_exporter": "python",
   "pygments_lexer": "ipython3",
   "version": "3.6.9"
  }
 },
 "nbformat": 4,
 "nbformat_minor": 2
}
