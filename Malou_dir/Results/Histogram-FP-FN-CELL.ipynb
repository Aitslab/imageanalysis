{
 "cells": [
  {
   "cell_type": "code",
   "execution_count": 2,
   "metadata": {},
   "outputs": [],
   "source": [
    "import pandas as pd\n",
    "from pandas import DataFrame\n",
    "import numpy as np\n",
    "import matplotlib.pyplot as plt"
   ]
  },
  {
   "cell_type": "markdown",
   "metadata": {},
   "source": [
    "## False Discovery Rate\n"
   ]
  },
  {
   "cell_type": "code",
   "execution_count": 14,
   "metadata": {},
   "outputs": [
    {
     "data": {
      "image/png": "[encoded data removed]",
      "text/plain": [
       "<Figure size 1080x576 with 1 Axes>"
      ]
     },
     "metadata": {
      "needs_background": "light"
     },
     "output_type": "display_data"
    }
   ],
   "source": [
    "import numpy as np\n",
    "import matplotlib.pyplot as plt\n",
    "from matplotlib import rc\n",
    "import pandas as pd\n",
    "\n",
    "Model = ['Model7','Model8', 'Model9', 'Model9-no-holes', 'Model12', 'Model13', 'Model14', 'Model15', 'Model16','Model23']\n",
    "\n",
    "SmallNuclei = [0.2812,0.3000,0.3350,0.3182,0.3230,0.3026,0.3468,0.4932,0.3353,0.1849]\n",
    "MediumNuclei = [0.1250,0.0667, 0.0542,0.0556,0.1056,0.1842,0.1214,0.0639,0.0867,0.0434]\n",
    "LargeNuclei = [0.0312,0.1000,0.0197,0.0202,0.0435,0.1053,0.0289,0.0411,0.0347,0.0019]\n",
    "\n",
    "# Data\n",
    "r = [0,1,2,3,4,5,6,7,8,9] \n",
    "raw_data = {'Small nuclei': SmallNuclei, 'Medium nuclei': MediumNuclei, 'Large nuclei': LargeNuclei}\n",
    "\n",
    "df = pd.DataFrame(raw_data, index = Model)\n",
    "\n",
    "plt.figure(figsize = (15,8))\n",
    "# plot\n",
    "barWidth = 0.85\n",
    "names = Model\n",
    "\n",
    "plt.bar(r, SmallNuclei, color='#b5ffb9', edgecolor='white', width=barWidth)\n",
    "plt.bar(r, MediumNuclei, color='#a3acff', bottom=SmallNuclei, edgecolor='white', width=barWidth)\n",
    "plt.bar(r, LargeNuclei, bottom=[i+j for i,j in zip(SmallNuclei, MediumNuclei)], color='#f9bc86', edgecolor='white', width=barWidth)\n",
    "\n",
    "plt.xticks(r, names, rotation = 70)\n",
    "plt.ylabel( 'False discovery rate')\n",
    "plt.legend(raw_data)\n",
    "\n",
    "plt.show()"
   ]
  },
  {
   "cell_type": "code",
   "execution_count": 15,
   "metadata": {},
   "outputs": [
    {
     "data": {
      "text/html": [
       "<div>\n",
       "<style scoped>\n",
       "    .dataframe tbody tr th:only-of-type {\n",
       "        vertical-align: middle;\n",
       "    }\n",
       "\n",
       "    .dataframe tbody tr th {\n",
       "        vertical-align: top;\n",
       "    }\n",
       "\n",
       "    .dataframe thead th {\n",
       "        text-align: right;\n",
       "    }\n",
       "</style>\n",
       "<table border=\"1\" class=\"dataframe\">\n",
       "  <thead>\n",
       "    <tr style=\"text-align: right;\">\n",
       "      <th></th>\n",
       "      <th>Small nuclei</th>\n",
       "      <th>Medium nuclei</th>\n",
       "      <th>Large nuclei</th>\n",
       "    </tr>\n",
       "  </thead>\n",
       "  <tbody>\n",
       "    <tr>\n",
       "      <th>Model7</th>\n",
       "      <td>0.28%</td>\n",
       "      <td>0.12%</td>\n",
       "      <td>0.03%</td>\n",
       "    </tr>\n",
       "    <tr>\n",
       "      <th>Model8</th>\n",
       "      <td>0.30%</td>\n",
       "      <td>0.07%</td>\n",
       "      <td>0.10%</td>\n",
       "    </tr>\n",
       "    <tr>\n",
       "      <th>Model9</th>\n",
       "      <td>0.34%</td>\n",
       "      <td>0.05%</td>\n",
       "      <td>0.02%</td>\n",
       "    </tr>\n",
       "    <tr>\n",
       "      <th>Model9-no-holes</th>\n",
       "      <td>0.32%</td>\n",
       "      <td>0.06%</td>\n",
       "      <td>0.02%</td>\n",
       "    </tr>\n",
       "    <tr>\n",
       "      <th>Model12</th>\n",
       "      <td>0.32%</td>\n",
       "      <td>0.11%</td>\n",
       "      <td>0.04%</td>\n",
       "    </tr>\n",
       "    <tr>\n",
       "      <th>Model13</th>\n",
       "      <td>0.30%</td>\n",
       "      <td>0.18%</td>\n",
       "      <td>0.11%</td>\n",
       "    </tr>\n",
       "    <tr>\n",
       "      <th>Model14</th>\n",
       "      <td>0.35%</td>\n",
       "      <td>0.12%</td>\n",
       "      <td>0.03%</td>\n",
       "    </tr>\n",
       "    <tr>\n",
       "      <th>Model15</th>\n",
       "      <td>0.49%</td>\n",
       "      <td>0.06%</td>\n",
       "      <td>0.04%</td>\n",
       "    </tr>\n",
       "    <tr>\n",
       "      <th>Model16</th>\n",
       "      <td>0.34%</td>\n",
       "      <td>0.09%</td>\n",
       "      <td>0.03%</td>\n",
       "    </tr>\n",
       "    <tr>\n",
       "      <th>Model23</th>\n",
       "      <td>0.18%</td>\n",
       "      <td>0.04%</td>\n",
       "      <td>0.00%</td>\n",
       "    </tr>\n",
       "  </tbody>\n",
       "</table>\n",
       "</div>"
      ],
      "text/plain": [
       "                Small nuclei Medium nuclei Large nuclei\n",
       "Model7                 0.28%         0.12%        0.03%\n",
       "Model8                 0.30%         0.07%        0.10%\n",
       "Model9                 0.34%         0.05%        0.02%\n",
       "Model9-no-holes        0.32%         0.06%        0.02%\n",
       "Model12                0.32%         0.11%        0.04%\n",
       "Model13                0.30%         0.18%        0.11%\n",
       "Model14                0.35%         0.12%        0.03%\n",
       "Model15                0.49%         0.06%        0.04%\n",
       "Model16                0.34%         0.09%        0.03%\n",
       "Model23                0.18%         0.04%        0.00%"
      ]
     },
     "metadata": {},
     "output_type": "display_data"
    }
   ],
   "source": [
    "for category in df:\n",
    "    df[category] = [(\"%.2f\" % i) + \"%\" for i in df[category]]\n",
    "display(df)"
   ]
  },
  {
   "cell_type": "markdown",
   "metadata": {},
   "source": [
    "# False negatives "
   ]
  },
  {
   "cell_type": "code",
   "execution_count": 16,
   "metadata": {},
   "outputs": [
    {
     "data": {
      "image/png": "[encoded data removed]",
      "text/plain": [
       "<Figure size 1080x576 with 1 Axes>"
      ]
     },
     "metadata": {
      "needs_background": "light"
     },
     "output_type": "display_data"
    }
   ],
   "source": [
    "import numpy as np\n",
    "import matplotlib.pyplot as plt\n",
    "from matplotlib import rc\n",
    "import pandas as pd\n",
    "\n",
    "\n",
    "Model = ['Model7','Model8', 'Model9', 'Model9-no-holes', 'Model12', 'Model13', 'Model14', 'Model15', 'Model16','Model23']\n",
    "\n",
    "#false negatives start at model7\n",
    "Small = [17, 18, 87,87,117, 169,118,116,109,218]\n",
    "Medium = [4, 5, 14,14,19, 22,16,17,18,13]\n",
    "Large = [0, 0, 2,2,2, 2,2,2,2,5]\n",
    "\n",
    "TP_FN = [39, 39, 223,223,223, 223,223,223,223,644]\n",
    "\n",
    "SmallNuclei = [Small[i]/TP_FN[i] for i in range(len(Small))]\n",
    "MediumNuclei = [Medium[i]/TP_FN[i] for i in range(len(Small))]\n",
    "LargeNuclei = [Large[i]/TP_FN[i] for i in range(len(Small))]\n",
    "\n",
    "# Data\n",
    "r = [0,1,2,3,4,5,6,7,8,9] \n",
    "raw_data = {'Small nuclei': SmallNuclei, 'Medium nuclei': MediumNuclei, 'Large nuclei': LargeNuclei}\n",
    "\n",
    "df = pd.DataFrame(raw_data, index = Model)\n",
    "\n",
    "plt.figure(figsize = (15,8))\n",
    "# plot\n",
    "barWidth = 0.85\n",
    "names = Model\n",
    "\n",
    "plt.bar(r, SmallNuclei, color='#b5ffb9', edgecolor='white', width=barWidth)\n",
    "plt.bar(r, MediumNuclei, color='#a3acff', bottom=SmallNuclei, edgecolor='white', width=barWidth)\n",
    "plt.bar(r, LargeNuclei, bottom=[i+j for i,j in zip(SmallNuclei, MediumNuclei)], color='#f9bc86', edgecolor='white', width=barWidth)\n",
    "\n",
    "plt.xticks(r, names, rotation = 70)\n",
    "plt.ylabel( 'False Negative rate')\n",
    "plt.legend(raw_data)\n",
    "\n",
    "plt.show()"
   ]
  },
  {
   "cell_type": "code",
   "execution_count": null,
   "metadata": {},
   "outputs": [],
   "source": []
  }
 ],
 "metadata": {
  "kernelspec": {
   "display_name": "Python 3",
   "language": "python",
   "name": "python3"
  },
  "language_info": {
   "codemirror_mode": {
    "name": "ipython",
    "version": 3
   },
   "file_extension": ".py",
   "mimetype": "text/x-python",
   "name": "python",
   "nbconvert_exporter": "python",
   "pygments_lexer": "ipython3",
   "version": "3.6.9"
  }
 },
 "nbformat": 4,
 "nbformat_minor": 4
}
