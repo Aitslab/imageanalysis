{
 "cells": [
  {
   "cell_type": "markdown",
   "metadata": {},
   "source": [
    "# Table with result values from 10 different models. \n These results are when I used a script to include micronucleis with including borders. \n",
    "\n",
    "### Description of the models\n",
    "\n",
    "- Model 1: Trained with 40 images from Aits lab, 30 for training, 10 for validation.\n",
    "- Model 2: Trained with the same images as Model 1, but with elastic transformation done 9 times on each of the 30 training images, so that the total amount of training images is 300.\n",
    "- Model 2.2: Model 2 evaluated with affine transformation done on the validation set.\n",
    "- Model 3: The same as Model 2, but with 100 images from BBBC\n",
    "- Model 4: The same as Model 2, but with 200 images from BBBC\n",
    "- Model 5: The same as Model 4 but with additional 500 images from the BBBC group\n",
    "- Model 5*: Model 5 with no augmented images with affine transformation (Model 1 + 700 additional BBBC images)\n",
    "- Model 6: Training with 2 images from Aitslab\n",
    "- Model 7: Training with 5 images from Aitslab\n",
    "- Model 8: Training with 15 images from Aitslab\n",
    "- Model 9: Model 1 trained for additional 15 epochs\n",
    "\n",
    "| Model | F1 50% | F1 95%| Avg F1 score | Jaccard Index|\n",
    "| --- | --- | --- | --- | --- |\n",
    "| Model 1 | 0.8282 | 0.1470 | 0.7019 | 0.7466 |\n",
    "| Model 2 | 0.8214 | 0.1302 | 0.6953 | 0.7493 |\n",
    "| Model 2.2 | 0.8345 | 0.0631 | 0.6883 | 0.7524 |\n",
    "| Model 3 | 0.8427 | 0.0725 | 0.7080 | 0.7709 |\n",
    "| Model 4 | 0.8323 | 0.1472 | 0.6951 | 0.7472 |\n",
    "| *Model 5 | 0.8130 | 0.0752 | 0.6580 | 0.7255 | \n",
    "| Model 5 | 0.7851 | 0.1403 | 0.6544 | 0.6708 |\n",
    "| Model 6 | 0.8444 | 0.0317 | 0.6557 | 0.7495 |\n",
    "| Model 7 | 0.8832 | 0.0731 | 0.7173 | 0.8180 |\n",
    "| Model 8 | 0.8016 | 0.1240 | 0.6584 | 0.7086 |\n",
    "| Model 9 | 0.8654 | 0.1214 | 0.7317 | 0.7964 |\n",
    "\n"
   ]
  },
  {
   "cell_type": "code",
   "execution_count": null,
   "metadata": {},
   "outputs": [],
   "source": []
  }
 ],
 "metadata": {
  "kernelspec": {
   "display_name": "Python 3",
   "language": "python",
   "name": "python3"
  },
  "language_info": {
   "codemirror_mode": {
    "name": "ipython",
    "version": 3
   },
   "file_extension": ".py",
   "mimetype": "text/x-python",
   "name": "python",
   "nbconvert_exporter": "python",
   "pygments_lexer": "ipython3",
   "version": "3.6.9"
  }
 },
 "nbformat": 4,
 "nbformat_minor": 4
}
