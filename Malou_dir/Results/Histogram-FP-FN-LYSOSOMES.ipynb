{
 "cells": [
  {
   "cell_type": "code",
   "execution_count": 1,
   "metadata": {},
   "outputs": [],
   "source": [
    "import pandas as pd\n",
    "from pandas import DataFrame\n",
    "import numpy as np\n",
    "import matplotlib.pyplot as plt"
   ]
  },
  {
   "cell_type": "markdown",
   "metadata": {},
   "source": [
    "## False Discovery Rate\n",
    "\n",
    "The IoU threshold for counting an object as a true positive is set to 0.1, most objects are less than 10 pixels, \n"
   ]
  },
  {
   "cell_type": "code",
   "execution_count": 13,
   "metadata": {},
   "outputs": [
    {
     "data": {
      "image/png": "[encoded data removed]",
      "text/plain": [
       "<Figure size 1080x576 with 1 Axes>"
      ]
     },
     "metadata": {
      "needs_background": "light"
     },
     "output_type": "display_data"
    }
   ],
   "source": [
    "\n",
    "Model = ['Model1','Model2', 'Model3', 'Model4']\n",
    "\n",
    "SmallNuclei = [0,0.1429,0.2667,0.2549]\n",
    "LargeNuclei = [0.2110,0.0143,0.0200,0.0131]\n",
    "# Data\n",
    "r = [0,1,2,3] \n",
    "raw_data = {'Small nuclei': SmallNuclei, 'Large nuclei': LargeNuclei}\n",
    "\n",
    "df = pd.DataFrame(raw_data, index = Model)\n",
    "\n",
    "plt.figure(figsize = (15,8))\n",
    "# plot\n",
    "barWidth = 0.85\n",
    "names = Model\n",
    "\n",
    "plt.bar(r, SmallNuclei, color='#b5ffb9', edgecolor='white', width=barWidth)\n",
    "plt.bar(r, LargeNuclei, bottom=SmallNuclei, color='#f9bc86', edgecolor='white', width=barWidth)\n",
    "\n",
    "plt.xticks(r, names, rotation = 70)\n",
    "plt.ylabel( 'False discovery rate')\n",
    "plt.legend(raw_data)\n",
    "\n",
    "plt.show()"
   ]
  },
  {
   "cell_type": "code",
   "execution_count": 14,
   "metadata": {},
   "outputs": [
    {
     "data": {
      "text/html": [
       "<div>\n",
       "<style scoped>\n",
       "    .dataframe tbody tr th:only-of-type {\n",
       "        vertical-align: middle;\n",
       "    }\n",
       "\n",
       "    .dataframe tbody tr th {\n",
       "        vertical-align: top;\n",
       "    }\n",
       "\n",
       "    .dataframe thead th {\n",
       "        text-align: right;\n",
       "    }\n",
       "</style>\n",
       "<table border=\"1\" class=\"dataframe\">\n",
       "  <thead>\n",
       "    <tr style=\"text-align: right;\">\n",
       "      <th></th>\n",
       "      <th>Small nuclei</th>\n",
       "      <th>Large nuclei</th>\n",
       "    </tr>\n",
       "  </thead>\n",
       "  <tbody>\n",
       "    <tr>\n",
       "      <th>Model1</th>\n",
       "      <td>0.00%</td>\n",
       "      <td>0.21%</td>\n",
       "    </tr>\n",
       "    <tr>\n",
       "      <th>Model2</th>\n",
       "      <td>0.14%</td>\n",
       "      <td>0.01%</td>\n",
       "    </tr>\n",
       "    <tr>\n",
       "      <th>Model3</th>\n",
       "      <td>0.27%</td>\n",
       "      <td>0.02%</td>\n",
       "    </tr>\n",
       "    <tr>\n",
       "      <th>Model4</th>\n",
       "      <td>0.25%</td>\n",
       "      <td>0.01%</td>\n",
       "    </tr>\n",
       "  </tbody>\n",
       "</table>\n",
       "</div>"
      ],
      "text/plain": [
       "       Small nuclei Large nuclei\n",
       "Model1        0.00%        0.21%\n",
       "Model2        0.14%        0.01%\n",
       "Model3        0.27%        0.02%\n",
       "Model4        0.25%        0.01%"
      ]
     },
     "metadata": {},
     "output_type": "display_data"
    }
   ],
   "source": [
    "for category in df:\n",
    "    df[category] = [(\"%.2f\" % i) + \"%\" for i in df[category]]\n",
    "display(df)"
   ]
  },
  {
   "cell_type": "markdown",
   "metadata": {},
   "source": [
    "# False negatives"
   ]
  },
  {
   "cell_type": "code",
   "execution_count": 16,
   "metadata": {},
   "outputs": [
    {
     "data": {
      "image/png": "[encoded data removed]",
      "text/plain": [
       "<Figure size 1080x576 with 1 Axes>"
      ]
     },
     "metadata": {
      "needs_background": "light"
     },
     "output_type": "display_data"
    }
   ],
   "source": [
    "import numpy as np\n",
    "import matplotlib.pyplot as plt\n",
    "from matplotlib import rc\n",
    "import pandas as pd\n",
    "\n",
    "Model = ['Model1','Model2', 'Model3', 'Model4']\n",
    "\n",
    "Small = [1, 10, 19, 15]\n",
    "Large = [5, 0, 0, 0]\n",
    "\n",
    "TP_FN = [96, 131,131, 131]\n",
    "\n",
    "SmallNuclei = [Small[i]/TP_FN[i] for i in range(len(Small))]\n",
    "LargeNuclei = [Large[i]/TP_FN[i] for i in range(len(Small))]\n",
    "\n",
    "# Data\n",
    "r = [0,1,2,3] \n",
    "raw_data = {'Small nuclei': SmallNuclei, 'Large nuclei': LargeNuclei}\n",
    "\n",
    "df = pd.DataFrame(raw_data, index = Model)\n",
    "\n",
    "plt.figure(figsize = (15,8))\n",
    "# plot\n",
    "barWidth = 0.85\n",
    "names = Model\n",
    "\n",
    "plt.bar(r, SmallNuclei, color='#b5ffb9', edgecolor='white', width=barWidth)\n",
    "plt.bar(r, LargeNuclei, bottom=SmallNuclei, color='#f9bc86', edgecolor='white', width=barWidth)\n",
    "\n",
    "plt.xticks(r, names, rotation = 70)\n",
    "plt.ylabel( 'False Negative rate')\n",
    "plt.legend(raw_data)\n",
    "\n",
    "plt.show()"
   ]
  },
  {
   "cell_type": "code",
   "execution_count": 17,
   "metadata": {},
   "outputs": [
    {
     "data": {
      "text/html": [
       "<div>\n",
       "<style scoped>\n",
       "    .dataframe tbody tr th:only-of-type {\n",
       "        vertical-align: middle;\n",
       "    }\n",
       "\n",
       "    .dataframe tbody tr th {\n",
       "        vertical-align: top;\n",
       "    }\n",
       "\n",
       "    .dataframe thead th {\n",
       "        text-align: right;\n",
       "    }\n",
       "</style>\n",
       "<table border=\"1\" class=\"dataframe\">\n",
       "  <thead>\n",
       "    <tr style=\"text-align: right;\">\n",
       "      <th></th>\n",
       "      <th>Small nuclei</th>\n",
       "      <th>Large nuclei</th>\n",
       "    </tr>\n",
       "  </thead>\n",
       "  <tbody>\n",
       "    <tr>\n",
       "      <th>Model1</th>\n",
       "      <td>0.01%</td>\n",
       "      <td>0.05%</td>\n",
       "    </tr>\n",
       "    <tr>\n",
       "      <th>Model2</th>\n",
       "      <td>0.08%</td>\n",
       "      <td>0.00%</td>\n",
       "    </tr>\n",
       "    <tr>\n",
       "      <th>Model3</th>\n",
       "      <td>0.15%</td>\n",
       "      <td>0.00%</td>\n",
       "    </tr>\n",
       "    <tr>\n",
       "      <th>Model4</th>\n",
       "      <td>0.11%</td>\n",
       "      <td>0.00%</td>\n",
       "    </tr>\n",
       "  </tbody>\n",
       "</table>\n",
       "</div>"
      ],
      "text/plain": [
       "       Small nuclei Large nuclei\n",
       "Model1        0.01%        0.05%\n",
       "Model2        0.08%        0.00%\n",
       "Model3        0.15%        0.00%\n",
       "Model4        0.11%        0.00%"
      ]
     },
     "metadata": {},
     "output_type": "display_data"
    }
   ],
   "source": [
    "for category in df:\n",
    "    df[category] = [(\"%.2f\" % i) + \"%\" for i in df[category]]\n",
    "display(df)"
   ]
  },
  {
   "cell_type": "code",
   "execution_count": null,
   "metadata": {},
   "outputs": [],
   "source": []
  }
 ],
 "metadata": {
  "kernelspec": {
   "display_name": "Python 3",
   "language": "python",
   "name": "python3"
  },
  "language_info": {
   "codemirror_mode": {
    "name": "ipython",
    "version": 3
   },
   "file_extension": ".py",
   "mimetype": "text/x-python",
   "name": "python",
   "nbconvert_exporter": "python",
   "pygments_lexer": "ipython3",
   "version": "3.6.9"
  }
 },
 "nbformat": 4,
 "nbformat_minor": 4
}
