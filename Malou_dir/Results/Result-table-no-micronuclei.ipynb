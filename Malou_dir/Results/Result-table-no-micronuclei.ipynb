{
 "cells": [
  {
   "cell_type": "markdown",
   "metadata": {},
   "source": [
    "  \n",
    "# Results table of models with excluded micronuclei (less than 100 pixels), in ground truth and prediction during the evaluationstep\n",
    "    \n",
    "    \n",
    "### Description of the models\n",
    "    \n",
    "- Model F3: Filips Model 3\n",
    "- Model 1: Model evaluation done with raw annotations as ground truth.\n",
    "- Model 1.1: Model 1, evaluated on images from other labs.\n",
    "- Model 2: Trained with the same images as Model 1, and with elastic transformation done 9 times on each of the 30 training images, so that the total amount of training images is 300.\n",
    "- Model 2.2: Model 2 evaluated with affine transformation done on the validation set.\n",
    "- Model 3: The same as Model 2, with 100 additional images from BBBC\n",
    "- Model 4: The same as Model 2, with 200 additional images from BBBC\n",
    "- Model 4.4: Model 4, evaluated on images from other labs.\n",
    "- Model 5: The same as Model 4 with additional 500 randomly selected images from the image collections BBBC038, BBBC020, \\GFP-GOWT1 mouse stem cells\\, \\HeLa cells stably expressing H2b-GFP\\ and \\Simulated nuclei of HL60 cells stained with Hoescht\\\n",
    "- Model 5.1: Model 5, evaluated on images from other labs.\n",
    "- Model 9: Model 1 trained for additional 15 epochs\n",
    "- Model 10: Model 1 and 29 additional images from the BBBC038, handpicked based on similarity to aits images.\n",
    "- Model 12: Same as Model 10, with the 29 additional images resized to the same size as aitsimages (1104x1104).\n",
    "- Model 13: Aits images with affine transformation + 333 images from BBBC038\n",
    "- Model 14: Model 3 trained for 15 additional epochs\n",
    "- Model 14 VAL2 : Model 14, evaluated on edited annotation (validation set 2)\n",
    "- Model 35: Model created with merged images, nuclei and cell channels are merged in to RGB images, where the B channel is 0.\n",
    "- Model 38: Model created with merged images, nuclei, cell and mitochondria channel merged. \n",
    "- Model 39: Trained as 38, but without using the percentile normalization on the images. No Micronuclei\n",
    "\n",
    "    | Model | F1 50% | 55% | 60% | 65% | 70% | 75% | 80% | 85% | 90% | 95%| Avg F1 score | Jaccard Index|\n",
    "    | --- | --- | | | | | | | | |--- | --- | --- |\n",
    "    | Model 1 | 0.9494| 0.9364| 0.9364 | 0.9342 | 0.9200 | 0.9029 | 0.8772 | 0.8358 | 0.7180 | 0.2282 | 0.8239 | 0.8640 |\n",
    "    | Model 2| 0.9462| 0.9406| 0.9295 | 0.9243 | 0.9105 | 0.9015 | 0.8784 | 0.8178 | 0.7211 | 0.1982 | 0.8168 | 0.8599 |\n",
    "    | Model 3| 0.9614| 0.9558| 0.9558 | 0.9498 | 0.9339 | 0.9264| 0.9073 | 0.8671 | 0.7521 | 0.1476 | 0.8357 | 0.8867 |\n",
    "    | Model 4| 0.9159| 0.9051| 0.8958| 0.8958 | 0.8803 | 0.8615| 0.8400 | 0.7837 | 0.7095 | 0.1902 | 0.7878 | 0.8051 |\n",
    "    | Model 5| 0.9021| 0.8941| 0.8826| 0.8655 | 0.8558 | 0.8208| 0.7910 | 0.7364 | 0.5968 | 0.1152 | 0.7460 | 0.7574 |\n",
    "    | Model 9| 0.9674| 0.9641| 0.9592| 0.9497 | 0.9392 | 0.9252| 0.9051 | 0.8583 | 0.7453 | 0.1868 | 0.8400 | 0.8860 |\n",
    "    | Model 10| 0.9558|0.9525 | 0.9472|0.9420| 0.9250 | 0.8993 | 0.8838| 0.8443 | 0.6681 | 0.1568| 0.8175 |0.8641 |\n",
    "    | Model 12| 0.9711|0.9633 | 0.9487|0.9369| 0.9240 | 0.8992 | 0.8886| 0.8459 | 0.7123 | 0.1839| 0.8274 |0.8825 |\n",
    "    | Model 14| 0.9676|0.9643 | 0.9537|0.9499| 0.9396 | 0.9219 | 0.9002| 0.8476 | 0.7639 | 0.2256| 0.7805 |0.8599 |\n",
    "    | Model 14 - VAL2 | 0.9661|0.9531 | 0.9479|0.9421| 0.9246 | 0.9071 | 0.8874| 0.8416 | 0.7713 | 0.2564| 0.8398 |0.8902|\n",
    "    | Model 28 | 0.9444|0.9286 | 0.9231|0.9188| 0.9083 | 0.8956 | 0.8698| 0.8057 | 0.5514 | 0.0598| 0.7805 |0.8597|\n",
    "    | Model 35 | 0.9467|0.9412 | 0.9362|0.9232| 0.9102 | 0.9011 | 0.8872| 0.8534 | 0.7178 | 0.2088| 0.8226|0.8667|\n",
    "    |Model 38 |0.9539 |0.9354 |0.9298 |0.9255 |0.9159 |0.8879 |0.8662 |0.8351 |0.7137 |0.1698 |0.8133 |0.8652 |\n",
    "    |Model 39|0.9577 |0.9522 |0.9414 |0.9312 |0.9312 |0.9162 |0.8831 |0.8524 |0.7232 |0.182 |0.8271 |0.8684 |\n"
   ]
  },
  {
   "cell_type": "code",
   "execution_count": null,
   "metadata": {},
   "outputs": [],
   "source": []
  }
 ],
 "metadata": {
  "kernelspec": {
   "display_name": "Python 3",
   "language": "python",
   "name": "python3"
  },
  "language_info": {
   "codemirror_mode": {
    "name": "ipython",
    "version": 3
   },
   "file_extension": ".py",
   "mimetype": "text/x-python",
   "name": "python",
   "nbconvert_exporter": "python",
   "pygments_lexer": "ipython3",
   "version": "3.6.9"
  }
 },
 "nbformat": 4,
 "nbformat_minor": 2
}
