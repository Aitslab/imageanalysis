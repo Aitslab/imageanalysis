{
 "cells": [
  {
   "cell_type": "markdown",
   "metadata": {},
   "source": [
    "# Cell model evaluations\n",
    "### Description of the models\n",
    "    \n",
    "- Model 1: Trained with 6 manually annotated images, 4 for training, 2 for validation.\n",
    "- Model 2: Model using 15 annotated images 10/5 split. Images annotated using merged images (channel 0 and 1 merged), but input images for model is only d1 images.\n",
    "- Model 3: Same as model 2, but the input images are the merged images.\n",
    "- Model 4: Model with 15 annotated images (cellannotationset1), with larger borders of the objects. merged images as input\n",
    "- Model 5: used extra weight on boundaries, 20 for boundaries. 1 for interior. 1 for background.\n",
    "- Model 6: Model created using probmaps from model3, input are the probmab, validation are the annotations.\n",
    "- Model 7: Trained with 5 newly annotated images, annotated from brightened images. input images are the brightened images.\n",
    "- Model 8: As model 7 but with the normalized images as input.\n",
    "- Model 9: model with cellannotationset1 + cellannotationset2 (total 21 images), with norm_images as input\n",
    "- Model 37-cell: Model created as nuclei model 5 but trained with 15 additional images from the cell channel, Evaluated on cell images.\n",
    "- Model 12: Model created as model 9, but with less weight put on boundaries weight parameters changed from [1.,1.,10.] to [1.,1.,5.] \n",
    "- Model 13: Model created as model 9, but with less weight put on boundaries weight parameters changed from [1.,1.,10.] to [1.,1.,1.]\n",
    "- Model 14: Model created with cellannotationset1 + 2 and 58 images from the datasets BBBC020 and CCDB_6843.\n",
    "    \n",
    "| Model | F1 50% | 55% | 60% | 65% | 70% | 75% | 80% | 85% | 90% | 95%| Avg F1 score | Jaccard Index|\n",
    "    | --- | --- | | | | | | | | |--- | --- | --- |\n",
    "    | Model 1 | 0.6124 | 0.6124 | 0.5911 | 0.5699 | 0.5216 | 0.4597 | 0.4114 | 0.3148 | 0.2453 | 0.0270 | 0.4366 | 0.5357 |\n",
    "    | Model 2 | 0.5562 | 0.4762 | 0.4529 | 0.4041 | 0.3990 | 0.3773 | 0.3012 | 0.2162 | 0.0833 | 0.0030 | 0.3269 | 0.4550 |\n",
    "    | Model 3 | 0.6360 | 0.5979 | 0.5820 | 0.5391 | 0.4892 | 0.4660 | 0.4039 | 0.2759 | 0.0961 | 0.0059 | 0.4092 | 0.5286 |\n",
    "    | Model 4 | 0.4949 | 0.4572 | 0.4067 | 0.3613 | 0.2929 | 0.1961 | 0.0952 | 0.0112 | 0.0000 | 0.0000 | 0.2315 | 0.3142 |\n",
    "    | Model 5 | 0.2429 | 0.2220 | 0.2062 | 0.2029 | 0.1760 | 0.1639 | 0.1433 | 0.0860 | 0.0260 | 0.0000 | 0.1469 | 0.1566 |\n",
    "    | Model 6 | 0.6767 | 0.6141 | 0.5938 | 0.5533 | 0.5183 | 0.4595 | 0.3918 | 0.2637 | 0.1597 | 0.0155 | 0.4246| 0.5716 |\n",
    "    |Model 7|0.5756 |0.5756 |0.5166 |0.4934 |0.4934 |0.4576 |0.4576 |0.3862 |0.1985 |0.0000 |0.4154 |0.6063 |\n",
    "    |Model 8|0.5322 |0.5322 |0.4937 |0.4937 |0.4937 |0.4937 |0.4553 |0.3551 |0.1699 |0.0000 |0.4019 |0.6128 |\n",
    "    |Model 9|0.7055 |0.651 |0.6064 |0.5812 |0.5135 |0.4808 |0.4079 |0.2700 |0.1294 |0.0111 |0.4357 |0.6133 |\n",
    "    |Model 37- cell|0.0402 |0.0326 |0.0262 |0.0262 |0.0217 |0.0171 |0.0171 |0.0171 |0.007 |0.0000 |0.0205 |0.0610 |\n",
    "    |Model 12|0.5959 |0.5599 |0.5198 |0.486 |0.4386 |0.4013 |0.3834 |0.3113 |0.1814 |0.0114 |0.3889 |0.6178 |\n",
    "    |Model 13|0.2778 |0.2642 |0.2396 |0.2294 |0.2157 |0.2078 |0.2043 |0.1711 |0.1227 |0.0465 |0.1979 |0.5239 |\n",
    "    |Model 14|0.6542 |0.5778 |0.5109 |0.4589 |0.4159 |0.3754 |0.3288 |0.2532 |0.0893 |0.0111 |0.3676 |0.6091 |\n",
    "    \n",
    "    "
   ]
  },
  {
   "cell_type": "code",
   "execution_count": null,
   "metadata": {},
   "outputs": [],
   "source": []
  }
 ],
 "metadata": {
  "kernelspec": {
   "display_name": "Python 3",
   "language": "python",
   "name": "python3"
  },
  "language_info": {
   "codemirror_mode": {
    "name": "ipython",
    "version": 3
   },
   "file_extension": ".py",
   "mimetype": "text/x-python",
   "name": "python",
   "nbconvert_exporter": "python",
   "pygments_lexer": "ipython3",
   "version": "3.6.9"
  }
 },
 "nbformat": 4,
 "nbformat_minor": 2
}
