{
 "cells": [
  {
   "cell_type": "markdown",
   "metadata": {},
   "source": [
    "### Description of the models\n",
    "    \n",
    "- Model 1: Trained with 6 manually annotated images, 4 for training, 2 for validation.\n",
    "- Model 2: Model using 15 annotated images 10/5 split. Images annotated using merged images (channel 0 and 1 merged), but input images for model is only d1 images.\n",
    "- Model 3: Same as model 2, but the input images are the merged images.\n",
    "- Model 4: Model with 15 annotated images, with larger borders of the objects. merged images as input\n",
    "- Model 5: used extra weight on boundaries, 20 for boundaries. 1 for interior. 1 for background.\n",
    "- Model 6: Model created using probmaps from model3, input are the probmab, validation are the annotations.\n",
    "- Model 7: Trained with 5 newly annotated images, annotated from brightened images. input images are the brightened images.\n",
    "- Model 8: As model 7 but with the normalized images as input.\n",
    "- Model 9: model with both old annotations and new annotations (21 images), with norm_images as input\n",
    "\n",
    "\n",
    "    \n",
    "| Model | F1 50% | 55% | 60% | 65% | 70% | 75% | 80% | 85% | 90% | 95%| Avg F1 score | Jaccard Index|\n",
    "    | --- | --- | | | | | | | | |--- | --- | --- |\n",
    "    | Model 1 | 0.6124 | 0.6124 | 0.5911 | 0.5699 | 0.5216 | 0.4597 | 0.4114 | 0.3148 | 0.2453 | 0.0270 | 0.4366 | 0.5357 |\n",
    "    | Model 2 | 0.5562 | 0.4762 | 0.4529 | 0.4041 | 0.3990 | 0.3773 | 0.3012 | 0.2162 | 0.0833 | 0.0030 | 0.3269 | 0.4550 |\n",
    "    | Model 3 | 0.6360 | 0.5979 | 0.5820 | 0.5391 | 0.4892 | 0.4660 | 0.4039 | 0.2759 | 0.0961 | 0.0059 | 0.4092 | 0.5286 |\n",
    "    | Model 4 | 0.4949 | 0.4572 | 0.4067 | 0.3613 | 0.2929 | 0.1961 | 0.0952 | 0.0112 | 0.0000 | 0.0000 | 0.2315 | 0.3142 |\n",
    "    | Model 5 | 0.2429 | 0.2220 | 0.2062 | 0.2029 | 0.1760 | 0.1639 | 0.1433 | 0.0860 | 0.0260 | 0.0000 | 0.1469 | 0.1566 |\n",
    "    | Model 6 | 0.6767 | 0.6141 | 0.5938 | 0.5533 | 0.5183 | 0.4595 | 0.3918 | 0.2637 | 0.1597 | 0.0155 | 0.4246| 0.5716 |\n",
    "\n",
    "    "
   ]
  },
  {
   "cell_type": "code",
   "execution_count": null,
   "metadata": {},
   "outputs": [],
   "source": []
  }
 ],
 "metadata": {
  "kernelspec": {
   "display_name": "Python 3",
   "language": "python",
   "name": "python3"
  },
  "language_info": {
   "codemirror_mode": {
    "name": "ipython",
    "version": 3
   },
   "file_extension": ".py",
   "mimetype": "text/x-python",
   "name": "python",
   "nbconvert_exporter": "python",
   "pygments_lexer": "ipython3",
   "version": "3.6.9"
  }
 },
 "nbformat": 4,
 "nbformat_minor": 2
}
