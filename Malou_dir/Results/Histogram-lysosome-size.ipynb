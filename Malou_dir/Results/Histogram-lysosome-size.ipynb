{
 "cells": [
  {
   "cell_type": "code",
   "execution_count": 2,
   "metadata": {},
   "outputs": [
    {
     "name": "stdout",
     "output_type": "stream",
     "text": [
      "Requirement already satisfied: pandas in /home/malou/Master/master-env/lib/python3.6/site-packages (1.1.4)\n",
      "Requirement already satisfied: pytz>=2017.2 in /home/malou/Master/master-env/lib/python3.6/site-packages (from pandas) (2020.4)\n",
      "Requirement already satisfied: numpy>=1.15.4 in /home/malou/Master/master-env/lib/python3.6/site-packages (from pandas) (1.19.4)\n",
      "Requirement already satisfied: python-dateutil>=2.7.3 in /home/malou/Master/master-env/lib/python3.6/site-packages (from pandas) (2.8.1)\n",
      "Requirement already satisfied: six>=1.5 in /home/malou/Master/master-env/lib/python3.6/site-packages (from python-dateutil>=2.7.3->pandas) (1.15.0)\n",
      "\u001b[33mWARNING: You are using pip version 20.2.4; however, version 20.3.1 is available.\n",
      "You should consider upgrading via the '/home/malou/Master/master-env/bin/python -m pip install --upgrade pip' command.\u001b[0m\n"
     ]
    }
   ],
   "source": [
    "\n",
    "!pip install pandas\n",
    "import numpy as np\n",
    "import pandas as pd\n",
    "import skimage\n",
    "from skimage import io\n",
    "import skimage.segmentation\n",
    "import matplotlib.pyplot as plt\n",
    "from skimage.color import rgb2lab\n",
    "from skimage import img_as_ubyte\n",
    "import os\n"
   ]
  },
  {
   "cell_type": "code",
   "execution_count": 4,
   "metadata": {},
   "outputs": [],
   "source": [
    "lys_annot_path = \"/home/malou/Master/data/0_lysosome_ch_images/annotations_v1/annotations/\"\n",
    "image_list = os.listdir(lys_annot_path)\n",
    "\n",
    "results= pd.DataFrame(columns=[\"Area\"])\n",
    "\n",
    "for image in image_list:\n",
    "    annot = skimage.io.imread(lys_annot_path + image)\n",
    "    annot = rgb2lab(annot)\n",
    "    annot = annot[:,:,0]\n",
    "    annot = skimage.morphology.label(annot)\n",
    "    objects = len(np.unique(annot))\n",
    "\n",
    "    area_true = np.histogram(annot, bins=objects)[0][1:]\n",
    "    \n",
    "    results = pd.concat([results, pd.DataFrame(data=np.asarray([area_true.copy()]).T, columns=[\"Area\"])])"
   ]
  },
  {
   "cell_type": "code",
   "execution_count": 5,
   "metadata": {},
   "outputs": [],
   "source": [
    "# removing largest value, since it is background\n",
    "results = results.loc[results['Area']!=results['Area'].max()]"
   ]
  },
  {
   "cell_type": "code",
   "execution_count": 6,
   "metadata": {},
   "outputs": [
    {
     "data": {
      "text/plain": [
       "<AxesSubplot:title={'center':'Sizedistribution plot of Cell images (Cellannotationset1 + 2)'}, ylabel='Frequency'>"
      ]
     },
     "execution_count": 6,
     "metadata": {},
     "output_type": "execute_result"
    },
    {
     "data": {
      "image/png": "[encoded data removed]",
      "text/plain": [
       "<Figure size 1080x576 with 1 Axes>"
      ]
     },
     "metadata": {
      "needs_background": "light"
     },
     "output_type": "display_data"
    }
   ],
   "source": [
    "results.plot.hist(bins = 150, figsize=(15,8),title = 'Sizedistribution plot of Lysosomes')"
   ]
  },
  {
   "cell_type": "code",
   "execution_count": null,
   "metadata": {},
   "outputs": [],
   "source": []
  },
  {
   "cell_type": "code",
   "execution_count": null,
   "metadata": {},
   "outputs": [],
   "source": []
  }
 ],
 "metadata": {
  "kernelspec": {
   "display_name": "Python 3",
   "language": "python",
   "name": "python3"
  },
  "language_info": {
   "codemirror_mode": {
    "name": "ipython",
    "version": 3
   },
   "file_extension": ".py",
   "mimetype": "text/x-python",
   "name": "python",
   "nbconvert_exporter": "python",
   "pygments_lexer": "ipython3",
   "version": "3.6.9"
  }
 },
 "nbformat": 4,
 "nbformat_minor": 4
}
