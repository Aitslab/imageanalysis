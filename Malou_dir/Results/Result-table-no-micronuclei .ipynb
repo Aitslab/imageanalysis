{
 "cells": [
  {
   "cell_type": "markdown",
   "metadata": {},
   "source": [
    "\n",
    "# Resulttable of models with excluded micronuclei (less than 100 pixels), in ground truth and prediction during the evaluationstep\n",
    "\n",
    "\n",
    "### Description of the models\n",
    "- Model F3: Filips Model 3\n",
    "- Model 1: Trained with 40 images from Aits lab, 30 for training, 10 for validation.\n",
    "- Model 1*: Model evaluation done with raw annotations as ground truth.\n",
    "- Model 1.1: Model 1, evaluated on images from other labs.\n",
    "- Model 2: Trained with the same images as Model 1, and with elastic transformation done 9 times on each of the 30 training images, so that the total amount of training images is 300.\n",
    "- Model 2.2: Model 2 evaluated with affine transformation done on the validation set.\n",
    "- Model 3: The same as Model 2, with 100 additional images from BBBC\n",
    "- Model 4: The same as Model 2, with 200 additional images from BBBC\n",
    "- Model 4.4: Model 4, evaluated on images from other labs.\n",
    "- Model 5: The same as Model 4 with additional 500 randomly selected images from the image collections BBBC038, BBBC020, \"GFP-GOWT1 mouse stem cells\", \"HeLa cells stably expressing H2b-GFP\" and \"Simulated nuclei of HL60 cells stained with Hoescht\"\n",
    "- Model 5.1: Model 5, evaluated on images from other labs.\n",
    "- Model 6: Training with 2 images from Aitslab\n",
    "- Model 7: Training with 5 images from Aitslab\n",
    "- Model 8: Training with 15 images from Aitslab\n",
    "- Model 9: Model 1 trained for additional 15 epochs\n",
    "- Model 10: Model 1 and 29 additional images from the BBBC038, handpicked based on similarity to aits images.\n",
    "- Model 10*: Model evaluation done with raw annotations as ground truth.\n",
    "- Model 11: Training with the 29 additional images used in Model 10.\n",
    "- Model 12: Same as Model 10, with the 29 additional images resized to the same size as aitsimages (1104x1104).\n",
    "- Model 13: Aits images with affine transformation + 333 images from BBBC038\n",
    "- Model 14: Model 3 trained for 15 additional epochs\n",
    "- Model 15: Model 5 trained for 15 additional epochs\n",
    "- Model 16: Model 10 trained for 15 additional epochs\n",
    "- Model 17: Model 1, with the weight parameter of the boundary label changed from 10 to 5. No dilation in the evaluation step\n",
    "- Model 18: Model 1, with modification to the weight parameter of the boundary label. backround, interior and boundary now has the same value instead of 1/1/10. No dilation done in the evaluation step now.\n",
    "- Model 19: Model 13 trained for additional 5 epochs\n",
    "\n",
    "| Model | F1 50% | 55% | 60% | 65% | 70% | 75% | 80% | 85% | 90% | 95%| Avg F1 score | Jaccard Index|\n",
    "| --- | --- | | | | | | | | |--- | --- | --- |\n",
    "| Model 1* | 0.9494| 0.9364| 0.9364 | 0.9342 | 0.9200 | 0.9029 | 0.8772 | 0.8358 | 0.7180 | 0.2282 | 0.8239 | 0.8640 |\n",
    "| Model 2| 0.9462| 0.9406| 0.9295 | 0.9243 | 0.9105 | 0.9015 | 0.8784 | 0.8178 | 0.7211 | 0.1982 | 0.8168 | 0.8599 |\n",
    "| Model 3| 0.9614| 0.9558| 0.9558 | 0.9498 | 0.9339 | 0.9264| 0.9073 | 0.8671 | 0.7521 | 0.1476 | 0.8357 | 0.8867 |\n",
    "| Model 4| 0.9159| 0.9051| 0.8958| 0.8958 | 0.8803 | 0.8615| 0.8400 | 0.7837 | 0.7095 | 0.1902 | 0.7878 | 0.8051 |\n",
    "| Model 5| 0.9021| 0.8941| 0.8826| 0.8655 | 0.8558 | 0.8208| 0.7910 | 0.7364 | 0.5968 | 0.1152 | 0.7460 | 0.7574 |\n",
    "| Model 10| 0.9558|0.9525 | 0.9472|0.9420| 0.9250 | 0.8993 | 0.8838| 0.8443 | 0.6681 | 0.1568| 0.8175 |0.8641 |\n",
    "| Model 12| 0.9711|0.9633 | 0.9487|0.9369| 0.9240 | 0.8992 | 0.8886| 0.8459 | 0.7123 | 0.1839| 0.8274 |0.8825 |"
   ]
  },
  {
   "cell_type": "code",
   "execution_count": null,
   "metadata": {},
   "outputs": [],
   "source": []
  }
 ],
 "metadata": {
  "kernelspec": {
   "display_name": "Python 3",
   "language": "python",
   "name": "python3"
  },
  "language_info": {
   "codemirror_mode": {
    "name": "ipython",
    "version": 3
   },
   "file_extension": ".py",
   "mimetype": "text/x-python",
   "name": "python",
   "nbconvert_exporter": "python",
   "pygments_lexer": "ipython3",
   "version": "3.7.6"
  }
 },
 "nbformat": 4,
 "nbformat_minor": 4
}
